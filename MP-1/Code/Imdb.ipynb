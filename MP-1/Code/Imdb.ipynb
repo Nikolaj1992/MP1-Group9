{
 "cells": [
  {
   "cell_type": "markdown",
   "id": "c12a9653-ee09-436f-af8d-4803429ef26b",
   "metadata": {},
   "source": [
    "# Top 5000 Highest Rated Movies on IMDB"
   ]
  },
  {
   "cell_type": "markdown",
   "id": "4dd1bac0-31a3-4664-964a-fb131c87fd36",
   "metadata": {},
   "source": [
    "#### Used dataset: https://www.kaggle.com/datasets/tiagoadrianunes/imdb-top-5000-movies"
   ]
  },
  {
   "cell_type": "markdown",
   "id": "1da56b7e-afd1-4d27-a8e8-d33a429de3ed",
   "metadata": {},
   "source": [
    "### Imports"
   ]
  },
  {
   "cell_type": "code",
   "execution_count": 12,
   "id": "7dea0663-29ff-4630-bd2e-f93247b5b164",
   "metadata": {},
   "outputs": [],
   "source": [
    "import pandas as pd, numpy as np, seaborn as sb, matplotlib.pyplot as mpl, hashlib"
   ]
  },
  {
   "cell_type": "markdown",
   "id": "46a8d944-5df6-4bb7-891a-6d5d6c435337",
   "metadata": {},
   "source": [
    "### Data Loading"
   ]
  },
  {
   "cell_type": "code",
   "execution_count": 14,
   "id": "58a6ed64-2ce4-4464-bac9-1e6a3cab984f",
   "metadata": {},
   "outputs": [],
   "source": [
    "def load_csv(file_path, na_values=['NA']):\n",
    "    df = pd.read_csv(file_path, index_col=None, na_values=na_values)\n",
    "    return df"
   ]
  },
  {
   "cell_type": "code",
   "execution_count": 15,
   "id": "6f670d31-95a6-4fa6-975e-bf7963c45516",
   "metadata": {},
   "outputs": [],
   "source": [
    "csv_file_path = '../Data/results_with_crew.csv'\n",
    "dataframe = load_csv(csv_file_path)"
   ]
  },
  {
   "cell_type": "code",
   "execution_count": 16,
   "id": "59fe8c5a-8443-462f-bf04-d9ddaf1c7943",
   "metadata": {},
   "outputs": [
    {
     "data": {
      "text/html": [
       "<div>\n",
       "<style scoped>\n",
       "    .dataframe tbody tr th:only-of-type {\n",
       "        vertical-align: middle;\n",
       "    }\n",
       "\n",
       "    .dataframe tbody tr th {\n",
       "        vertical-align: top;\n",
       "    }\n",
       "\n",
       "    .dataframe thead th {\n",
       "        text-align: right;\n",
       "    }\n",
       "</style>\n",
       "<table border=\"1\" class=\"dataframe\">\n",
       "  <thead>\n",
       "    <tr style=\"text-align: right;\">\n",
       "      <th></th>\n",
       "      <th>tconst</th>\n",
       "      <th>primaryTitle</th>\n",
       "      <th>startYear</th>\n",
       "      <th>rank</th>\n",
       "      <th>averageRating</th>\n",
       "      <th>numVotes</th>\n",
       "      <th>runtimeMinutes</th>\n",
       "      <th>directors</th>\n",
       "      <th>writers</th>\n",
       "      <th>genres</th>\n",
       "      <th>IMDbLink</th>\n",
       "      <th>Title_IMDb_Link</th>\n",
       "    </tr>\n",
       "  </thead>\n",
       "  <tbody>\n",
       "    <tr>\n",
       "      <th>0</th>\n",
       "      <td>tt0111161</td>\n",
       "      <td>The Shawshank Redemption</td>\n",
       "      <td>1994</td>\n",
       "      <td>1</td>\n",
       "      <td>9.3</td>\n",
       "      <td>3029801</td>\n",
       "      <td>142</td>\n",
       "      <td>Frank Darabont</td>\n",
       "      <td>Stephen King, Frank Darabont</td>\n",
       "      <td>Drama</td>\n",
       "      <td>&lt;a href=\"https://www.imdb.com/title/tt0111161\"...</td>\n",
       "      <td>&lt;a href=\"https://www.imdb.com/title/tt0111161\"...</td>\n",
       "    </tr>\n",
       "    <tr>\n",
       "      <th>1</th>\n",
       "      <td>tt0068646</td>\n",
       "      <td>The Godfather</td>\n",
       "      <td>1972</td>\n",
       "      <td>2</td>\n",
       "      <td>9.2</td>\n",
       "      <td>2114686</td>\n",
       "      <td>175</td>\n",
       "      <td>Francis Ford Coppola</td>\n",
       "      <td>Mario Puzo, Francis Ford Coppola</td>\n",
       "      <td>Crime, Drama</td>\n",
       "      <td>&lt;a href=\"https://www.imdb.com/title/tt0068646\"...</td>\n",
       "      <td>&lt;a href=\"https://www.imdb.com/title/tt0068646\"...</td>\n",
       "    </tr>\n",
       "    <tr>\n",
       "      <th>2</th>\n",
       "      <td>tt0468569</td>\n",
       "      <td>The Dark Knight</td>\n",
       "      <td>2008</td>\n",
       "      <td>3</td>\n",
       "      <td>9.0</td>\n",
       "      <td>3006220</td>\n",
       "      <td>152</td>\n",
       "      <td>Christopher Nolan</td>\n",
       "      <td>Jonathan Nolan, Christopher Nolan, David S. Go...</td>\n",
       "      <td>Action, Crime, Drama</td>\n",
       "      <td>&lt;a href=\"https://www.imdb.com/title/tt0468569\"...</td>\n",
       "      <td>&lt;a href=\"https://www.imdb.com/title/tt0468569\"...</td>\n",
       "    </tr>\n",
       "    <tr>\n",
       "      <th>3</th>\n",
       "      <td>tt0167260</td>\n",
       "      <td>The Lord of the Rings: The Return of the King</td>\n",
       "      <td>2003</td>\n",
       "      <td>4</td>\n",
       "      <td>9.0</td>\n",
       "      <td>2069149</td>\n",
       "      <td>201</td>\n",
       "      <td>Peter Jackson</td>\n",
       "      <td>J.R.R. Tolkien, Fran Walsh, Philippa Boyens, P...</td>\n",
       "      <td>Adventure, Drama, Fantasy</td>\n",
       "      <td>&lt;a href=\"https://www.imdb.com/title/tt0167260\"...</td>\n",
       "      <td>&lt;a href=\"https://www.imdb.com/title/tt0167260\"...</td>\n",
       "    </tr>\n",
       "    <tr>\n",
       "      <th>4</th>\n",
       "      <td>tt0108052</td>\n",
       "      <td>Schindler's List</td>\n",
       "      <td>1993</td>\n",
       "      <td>5</td>\n",
       "      <td>9.0</td>\n",
       "      <td>1516036</td>\n",
       "      <td>195</td>\n",
       "      <td>Steven Spielberg</td>\n",
       "      <td>Thomas Keneally, Steven Zaillian</td>\n",
       "      <td>Biography, Drama, History</td>\n",
       "      <td>&lt;a href=\"https://www.imdb.com/title/tt0108052\"...</td>\n",
       "      <td>&lt;a href=\"https://www.imdb.com/title/tt0108052\"...</td>\n",
       "    </tr>\n",
       "    <tr>\n",
       "      <th>...</th>\n",
       "      <td>...</td>\n",
       "      <td>...</td>\n",
       "      <td>...</td>\n",
       "      <td>...</td>\n",
       "      <td>...</td>\n",
       "      <td>...</td>\n",
       "      <td>...</td>\n",
       "      <td>...</td>\n",
       "      <td>...</td>\n",
       "      <td>...</td>\n",
       "      <td>...</td>\n",
       "      <td>...</td>\n",
       "    </tr>\n",
       "    <tr>\n",
       "      <th>4995</th>\n",
       "      <td>tt0891527</td>\n",
       "      <td>Lions for Lambs</td>\n",
       "      <td>2007</td>\n",
       "      <td>4996</td>\n",
       "      <td>6.2</td>\n",
       "      <td>54138</td>\n",
       "      <td>92</td>\n",
       "      <td>Robert Redford</td>\n",
       "      <td>Matthew Michael Carnahan</td>\n",
       "      <td>Crime, Drama, Mystery</td>\n",
       "      <td>&lt;a href=\"https://www.imdb.com/title/tt0891527\"...</td>\n",
       "      <td>&lt;a href=\"https://www.imdb.com/title/tt0891527\"...</td>\n",
       "    </tr>\n",
       "    <tr>\n",
       "      <th>4996</th>\n",
       "      <td>tt0880578</td>\n",
       "      <td>Untraceable</td>\n",
       "      <td>2008</td>\n",
       "      <td>4997</td>\n",
       "      <td>6.2</td>\n",
       "      <td>54012</td>\n",
       "      <td>101</td>\n",
       "      <td>Gregory Hoblit</td>\n",
       "      <td>Robert Fyvolent, Mark Brinker, Allison Burnett</td>\n",
       "      <td>Crime, Mystery, Thriller</td>\n",
       "      <td>&lt;a href=\"https://www.imdb.com/title/tt0880578\"...</td>\n",
       "      <td>&lt;a href=\"https://www.imdb.com/title/tt0880578\"...</td>\n",
       "    </tr>\n",
       "    <tr>\n",
       "      <th>4997</th>\n",
       "      <td>tt27459160</td>\n",
       "      <td>Teri Baaton Mein Aisa Uljha Jiya</td>\n",
       "      <td>2024</td>\n",
       "      <td>4998</td>\n",
       "      <td>6.2</td>\n",
       "      <td>53986</td>\n",
       "      <td>141</td>\n",
       "      <td>Amit Joshi, Aradhana Sah</td>\n",
       "      <td>Amit Joshi, Aradhana Sah</td>\n",
       "      <td>Comedy, Drama, Romance</td>\n",
       "      <td>&lt;a href=\"https://www.imdb.com/title/tt27459160...</td>\n",
       "      <td>&lt;a href=\"https://www.imdb.com/title/tt27459160...</td>\n",
       "    </tr>\n",
       "    <tr>\n",
       "      <th>4998</th>\n",
       "      <td>tt3174376</td>\n",
       "      <td>Before I Wake</td>\n",
       "      <td>2016</td>\n",
       "      <td>4999</td>\n",
       "      <td>6.2</td>\n",
       "      <td>53940</td>\n",
       "      <td>97</td>\n",
       "      <td>Mike Flanagan</td>\n",
       "      <td>Mike Flanagan, Jeff Howard</td>\n",
       "      <td>Drama, Fantasy, Horror</td>\n",
       "      <td>&lt;a href=\"https://www.imdb.com/title/tt3174376\"...</td>\n",
       "      <td>&lt;a href=\"https://www.imdb.com/title/tt3174376\"...</td>\n",
       "    </tr>\n",
       "    <tr>\n",
       "      <th>4999</th>\n",
       "      <td>tt5177088</td>\n",
       "      <td>The Girl in the Spider's Web</td>\n",
       "      <td>2018</td>\n",
       "      <td>5000</td>\n",
       "      <td>6.1</td>\n",
       "      <td>53873</td>\n",
       "      <td>115</td>\n",
       "      <td>Fede Alvarez</td>\n",
       "      <td>Jay Basu, Fede Alvarez, Steven Knight, Stieg L...</td>\n",
       "      <td>Action, Adventure, Crime</td>\n",
       "      <td>&lt;a href=\"https://www.imdb.com/title/tt5177088\"...</td>\n",
       "      <td>&lt;a href=\"https://www.imdb.com/title/tt5177088\"...</td>\n",
       "    </tr>\n",
       "  </tbody>\n",
       "</table>\n",
       "<p>5000 rows × 12 columns</p>\n",
       "</div>"
      ],
      "text/plain": [
       "          tconst                                   primaryTitle  startYear  \\\n",
       "0      tt0111161                       The Shawshank Redemption       1994   \n",
       "1      tt0068646                                  The Godfather       1972   \n",
       "2      tt0468569                                The Dark Knight       2008   \n",
       "3      tt0167260  The Lord of the Rings: The Return of the King       2003   \n",
       "4      tt0108052                               Schindler's List       1993   \n",
       "...          ...                                            ...        ...   \n",
       "4995   tt0891527                                Lions for Lambs       2007   \n",
       "4996   tt0880578                                    Untraceable       2008   \n",
       "4997  tt27459160               Teri Baaton Mein Aisa Uljha Jiya       2024   \n",
       "4998   tt3174376                                  Before I Wake       2016   \n",
       "4999   tt5177088                   The Girl in the Spider's Web       2018   \n",
       "\n",
       "      rank  averageRating  numVotes  runtimeMinutes                 directors  \\\n",
       "0        1            9.3   3029801             142            Frank Darabont   \n",
       "1        2            9.2   2114686             175      Francis Ford Coppola   \n",
       "2        3            9.0   3006220             152         Christopher Nolan   \n",
       "3        4            9.0   2069149             201             Peter Jackson   \n",
       "4        5            9.0   1516036             195          Steven Spielberg   \n",
       "...    ...            ...       ...             ...                       ...   \n",
       "4995  4996            6.2     54138              92            Robert Redford   \n",
       "4996  4997            6.2     54012             101            Gregory Hoblit   \n",
       "4997  4998            6.2     53986             141  Amit Joshi, Aradhana Sah   \n",
       "4998  4999            6.2     53940              97             Mike Flanagan   \n",
       "4999  5000            6.1     53873             115              Fede Alvarez   \n",
       "\n",
       "                                                writers  \\\n",
       "0                          Stephen King, Frank Darabont   \n",
       "1                      Mario Puzo, Francis Ford Coppola   \n",
       "2     Jonathan Nolan, Christopher Nolan, David S. Go...   \n",
       "3     J.R.R. Tolkien, Fran Walsh, Philippa Boyens, P...   \n",
       "4                      Thomas Keneally, Steven Zaillian   \n",
       "...                                                 ...   \n",
       "4995                           Matthew Michael Carnahan   \n",
       "4996     Robert Fyvolent, Mark Brinker, Allison Burnett   \n",
       "4997                           Amit Joshi, Aradhana Sah   \n",
       "4998                         Mike Flanagan, Jeff Howard   \n",
       "4999  Jay Basu, Fede Alvarez, Steven Knight, Stieg L...   \n",
       "\n",
       "                         genres  \\\n",
       "0                         Drama   \n",
       "1                  Crime, Drama   \n",
       "2          Action, Crime, Drama   \n",
       "3     Adventure, Drama, Fantasy   \n",
       "4     Biography, Drama, History   \n",
       "...                         ...   \n",
       "4995      Crime, Drama, Mystery   \n",
       "4996   Crime, Mystery, Thriller   \n",
       "4997     Comedy, Drama, Romance   \n",
       "4998     Drama, Fantasy, Horror   \n",
       "4999   Action, Adventure, Crime   \n",
       "\n",
       "                                               IMDbLink  \\\n",
       "0     <a href=\"https://www.imdb.com/title/tt0111161\"...   \n",
       "1     <a href=\"https://www.imdb.com/title/tt0068646\"...   \n",
       "2     <a href=\"https://www.imdb.com/title/tt0468569\"...   \n",
       "3     <a href=\"https://www.imdb.com/title/tt0167260\"...   \n",
       "4     <a href=\"https://www.imdb.com/title/tt0108052\"...   \n",
       "...                                                 ...   \n",
       "4995  <a href=\"https://www.imdb.com/title/tt0891527\"...   \n",
       "4996  <a href=\"https://www.imdb.com/title/tt0880578\"...   \n",
       "4997  <a href=\"https://www.imdb.com/title/tt27459160...   \n",
       "4998  <a href=\"https://www.imdb.com/title/tt3174376\"...   \n",
       "4999  <a href=\"https://www.imdb.com/title/tt5177088\"...   \n",
       "\n",
       "                                        Title_IMDb_Link  \n",
       "0     <a href=\"https://www.imdb.com/title/tt0111161\"...  \n",
       "1     <a href=\"https://www.imdb.com/title/tt0068646\"...  \n",
       "2     <a href=\"https://www.imdb.com/title/tt0468569\"...  \n",
       "3     <a href=\"https://www.imdb.com/title/tt0167260\"...  \n",
       "4     <a href=\"https://www.imdb.com/title/tt0108052\"...  \n",
       "...                                                 ...  \n",
       "4995  <a href=\"https://www.imdb.com/title/tt0891527\"...  \n",
       "4996  <a href=\"https://www.imdb.com/title/tt0880578\"...  \n",
       "4997  <a href=\"https://www.imdb.com/title/tt27459160...  \n",
       "4998  <a href=\"https://www.imdb.com/title/tt3174376\"...  \n",
       "4999  <a href=\"https://www.imdb.com/title/tt5177088\"...  \n",
       "\n",
       "[5000 rows x 12 columns]"
      ]
     },
     "execution_count": 16,
     "metadata": {},
     "output_type": "execute_result"
    }
   ],
   "source": [
    "dataframe"
   ]
  },
  {
   "cell_type": "code",
   "execution_count": 17,
   "id": "70cd08ec-2f92-4bea-83a7-6a923029b293",
   "metadata": {},
   "outputs": [
    {
     "data": {
      "text/plain": [
       "(5000, 12)"
      ]
     },
     "execution_count": 17,
     "metadata": {},
     "output_type": "execute_result"
    }
   ],
   "source": [
    "dataframe.shape"
   ]
  },
  {
   "cell_type": "code",
   "execution_count": 18,
   "id": "e8a3b265-2a86-49a0-b7f2-47bff16cb4ce",
   "metadata": {},
   "outputs": [
    {
     "data": {
      "text/html": [
       "<div>\n",
       "<style scoped>\n",
       "    .dataframe tbody tr th:only-of-type {\n",
       "        vertical-align: middle;\n",
       "    }\n",
       "\n",
       "    .dataframe tbody tr th {\n",
       "        vertical-align: top;\n",
       "    }\n",
       "\n",
       "    .dataframe thead th {\n",
       "        text-align: right;\n",
       "    }\n",
       "</style>\n",
       "<table border=\"1\" class=\"dataframe\">\n",
       "  <thead>\n",
       "    <tr style=\"text-align: right;\">\n",
       "      <th></th>\n",
       "      <th>tconst</th>\n",
       "      <th>primaryTitle</th>\n",
       "      <th>startYear</th>\n",
       "      <th>rank</th>\n",
       "      <th>averageRating</th>\n",
       "      <th>numVotes</th>\n",
       "      <th>runtimeMinutes</th>\n",
       "      <th>directors</th>\n",
       "      <th>writers</th>\n",
       "      <th>genres</th>\n",
       "      <th>IMDbLink</th>\n",
       "      <th>Title_IMDb_Link</th>\n",
       "    </tr>\n",
       "  </thead>\n",
       "  <tbody>\n",
       "    <tr>\n",
       "      <th>0</th>\n",
       "      <td>tt0111161</td>\n",
       "      <td>The Shawshank Redemption</td>\n",
       "      <td>1994</td>\n",
       "      <td>1</td>\n",
       "      <td>9.3</td>\n",
       "      <td>3029801</td>\n",
       "      <td>142</td>\n",
       "      <td>Frank Darabont</td>\n",
       "      <td>Stephen King, Frank Darabont</td>\n",
       "      <td>Drama</td>\n",
       "      <td>&lt;a href=\"https://www.imdb.com/title/tt0111161\"...</td>\n",
       "      <td>&lt;a href=\"https://www.imdb.com/title/tt0111161\"...</td>\n",
       "    </tr>\n",
       "    <tr>\n",
       "      <th>1</th>\n",
       "      <td>tt0068646</td>\n",
       "      <td>The Godfather</td>\n",
       "      <td>1972</td>\n",
       "      <td>2</td>\n",
       "      <td>9.2</td>\n",
       "      <td>2114686</td>\n",
       "      <td>175</td>\n",
       "      <td>Francis Ford Coppola</td>\n",
       "      <td>Mario Puzo, Francis Ford Coppola</td>\n",
       "      <td>Crime, Drama</td>\n",
       "      <td>&lt;a href=\"https://www.imdb.com/title/tt0068646\"...</td>\n",
       "      <td>&lt;a href=\"https://www.imdb.com/title/tt0068646\"...</td>\n",
       "    </tr>\n",
       "    <tr>\n",
       "      <th>2</th>\n",
       "      <td>tt0468569</td>\n",
       "      <td>The Dark Knight</td>\n",
       "      <td>2008</td>\n",
       "      <td>3</td>\n",
       "      <td>9.0</td>\n",
       "      <td>3006220</td>\n",
       "      <td>152</td>\n",
       "      <td>Christopher Nolan</td>\n",
       "      <td>Jonathan Nolan, Christopher Nolan, David S. Go...</td>\n",
       "      <td>Action, Crime, Drama</td>\n",
       "      <td>&lt;a href=\"https://www.imdb.com/title/tt0468569\"...</td>\n",
       "      <td>&lt;a href=\"https://www.imdb.com/title/tt0468569\"...</td>\n",
       "    </tr>\n",
       "  </tbody>\n",
       "</table>\n",
       "</div>"
      ],
      "text/plain": [
       "      tconst              primaryTitle  startYear  rank  averageRating  \\\n",
       "0  tt0111161  The Shawshank Redemption       1994     1            9.3   \n",
       "1  tt0068646             The Godfather       1972     2            9.2   \n",
       "2  tt0468569           The Dark Knight       2008     3            9.0   \n",
       "\n",
       "   numVotes  runtimeMinutes             directors  \\\n",
       "0   3029801             142        Frank Darabont   \n",
       "1   2114686             175  Francis Ford Coppola   \n",
       "2   3006220             152     Christopher Nolan   \n",
       "\n",
       "                                             writers                genres  \\\n",
       "0                       Stephen King, Frank Darabont                 Drama   \n",
       "1                   Mario Puzo, Francis Ford Coppola          Crime, Drama   \n",
       "2  Jonathan Nolan, Christopher Nolan, David S. Go...  Action, Crime, Drama   \n",
       "\n",
       "                                            IMDbLink  \\\n",
       "0  <a href=\"https://www.imdb.com/title/tt0111161\"...   \n",
       "1  <a href=\"https://www.imdb.com/title/tt0068646\"...   \n",
       "2  <a href=\"https://www.imdb.com/title/tt0468569\"...   \n",
       "\n",
       "                                     Title_IMDb_Link  \n",
       "0  <a href=\"https://www.imdb.com/title/tt0111161\"...  \n",
       "1  <a href=\"https://www.imdb.com/title/tt0068646\"...  \n",
       "2  <a href=\"https://www.imdb.com/title/tt0468569\"...  "
      ]
     },
     "execution_count": 18,
     "metadata": {},
     "output_type": "execute_result"
    }
   ],
   "source": [
    "dataframe.head(3)"
   ]
  },
  {
   "cell_type": "code",
   "execution_count": 19,
   "id": "cff53279-f745-43c3-b7fc-bf91041b4af5",
   "metadata": {},
   "outputs": [
    {
     "data": {
      "text/html": [
       "<div>\n",
       "<style scoped>\n",
       "    .dataframe tbody tr th:only-of-type {\n",
       "        vertical-align: middle;\n",
       "    }\n",
       "\n",
       "    .dataframe tbody tr th {\n",
       "        vertical-align: top;\n",
       "    }\n",
       "\n",
       "    .dataframe thead th {\n",
       "        text-align: right;\n",
       "    }\n",
       "</style>\n",
       "<table border=\"1\" class=\"dataframe\">\n",
       "  <thead>\n",
       "    <tr style=\"text-align: right;\">\n",
       "      <th></th>\n",
       "      <th>tconst</th>\n",
       "      <th>primaryTitle</th>\n",
       "      <th>startYear</th>\n",
       "      <th>rank</th>\n",
       "      <th>averageRating</th>\n",
       "      <th>numVotes</th>\n",
       "      <th>runtimeMinutes</th>\n",
       "      <th>directors</th>\n",
       "      <th>writers</th>\n",
       "      <th>genres</th>\n",
       "      <th>IMDbLink</th>\n",
       "      <th>Title_IMDb_Link</th>\n",
       "    </tr>\n",
       "  </thead>\n",
       "  <tbody>\n",
       "    <tr>\n",
       "      <th>4997</th>\n",
       "      <td>tt27459160</td>\n",
       "      <td>Teri Baaton Mein Aisa Uljha Jiya</td>\n",
       "      <td>2024</td>\n",
       "      <td>4998</td>\n",
       "      <td>6.2</td>\n",
       "      <td>53986</td>\n",
       "      <td>141</td>\n",
       "      <td>Amit Joshi, Aradhana Sah</td>\n",
       "      <td>Amit Joshi, Aradhana Sah</td>\n",
       "      <td>Comedy, Drama, Romance</td>\n",
       "      <td>&lt;a href=\"https://www.imdb.com/title/tt27459160...</td>\n",
       "      <td>&lt;a href=\"https://www.imdb.com/title/tt27459160...</td>\n",
       "    </tr>\n",
       "    <tr>\n",
       "      <th>4998</th>\n",
       "      <td>tt3174376</td>\n",
       "      <td>Before I Wake</td>\n",
       "      <td>2016</td>\n",
       "      <td>4999</td>\n",
       "      <td>6.2</td>\n",
       "      <td>53940</td>\n",
       "      <td>97</td>\n",
       "      <td>Mike Flanagan</td>\n",
       "      <td>Mike Flanagan, Jeff Howard</td>\n",
       "      <td>Drama, Fantasy, Horror</td>\n",
       "      <td>&lt;a href=\"https://www.imdb.com/title/tt3174376\"...</td>\n",
       "      <td>&lt;a href=\"https://www.imdb.com/title/tt3174376\"...</td>\n",
       "    </tr>\n",
       "    <tr>\n",
       "      <th>4999</th>\n",
       "      <td>tt5177088</td>\n",
       "      <td>The Girl in the Spider's Web</td>\n",
       "      <td>2018</td>\n",
       "      <td>5000</td>\n",
       "      <td>6.1</td>\n",
       "      <td>53873</td>\n",
       "      <td>115</td>\n",
       "      <td>Fede Alvarez</td>\n",
       "      <td>Jay Basu, Fede Alvarez, Steven Knight, Stieg L...</td>\n",
       "      <td>Action, Adventure, Crime</td>\n",
       "      <td>&lt;a href=\"https://www.imdb.com/title/tt5177088\"...</td>\n",
       "      <td>&lt;a href=\"https://www.imdb.com/title/tt5177088\"...</td>\n",
       "    </tr>\n",
       "  </tbody>\n",
       "</table>\n",
       "</div>"
      ],
      "text/plain": [
       "          tconst                      primaryTitle  startYear  rank  \\\n",
       "4997  tt27459160  Teri Baaton Mein Aisa Uljha Jiya       2024  4998   \n",
       "4998   tt3174376                     Before I Wake       2016  4999   \n",
       "4999   tt5177088      The Girl in the Spider's Web       2018  5000   \n",
       "\n",
       "      averageRating  numVotes  runtimeMinutes                 directors  \\\n",
       "4997            6.2     53986             141  Amit Joshi, Aradhana Sah   \n",
       "4998            6.2     53940              97             Mike Flanagan   \n",
       "4999            6.1     53873             115              Fede Alvarez   \n",
       "\n",
       "                                                writers  \\\n",
       "4997                           Amit Joshi, Aradhana Sah   \n",
       "4998                         Mike Flanagan, Jeff Howard   \n",
       "4999  Jay Basu, Fede Alvarez, Steven Knight, Stieg L...   \n",
       "\n",
       "                        genres  \\\n",
       "4997    Comedy, Drama, Romance   \n",
       "4998    Drama, Fantasy, Horror   \n",
       "4999  Action, Adventure, Crime   \n",
       "\n",
       "                                               IMDbLink  \\\n",
       "4997  <a href=\"https://www.imdb.com/title/tt27459160...   \n",
       "4998  <a href=\"https://www.imdb.com/title/tt3174376\"...   \n",
       "4999  <a href=\"https://www.imdb.com/title/tt5177088\"...   \n",
       "\n",
       "                                        Title_IMDb_Link  \n",
       "4997  <a href=\"https://www.imdb.com/title/tt27459160...  \n",
       "4998  <a href=\"https://www.imdb.com/title/tt3174376\"...  \n",
       "4999  <a href=\"https://www.imdb.com/title/tt5177088\"...  "
      ]
     },
     "execution_count": 19,
     "metadata": {},
     "output_type": "execute_result"
    }
   ],
   "source": [
    "dataframe.tail(3)"
   ]
  },
  {
   "cell_type": "code",
   "execution_count": 20,
   "id": "769aa91d-7b6f-44cb-b4dc-09d20660d21d",
   "metadata": {},
   "outputs": [
    {
     "name": "stdout",
     "output_type": "stream",
     "text": [
      "<class 'pandas.core.frame.DataFrame'>\n",
      "RangeIndex: 5000 entries, 0 to 4999\n",
      "Data columns (total 12 columns):\n",
      " #   Column           Non-Null Count  Dtype  \n",
      "---  ------           --------------  -----  \n",
      " 0   tconst           5000 non-null   object \n",
      " 1   primaryTitle     5000 non-null   object \n",
      " 2   startYear        5000 non-null   int64  \n",
      " 3   rank             5000 non-null   int64  \n",
      " 4   averageRating    5000 non-null   float64\n",
      " 5   numVotes         5000 non-null   int64  \n",
      " 6   runtimeMinutes   5000 non-null   int64  \n",
      " 7   directors        5000 non-null   object \n",
      " 8   writers          4974 non-null   object \n",
      " 9   genres           5000 non-null   object \n",
      " 10  IMDbLink         5000 non-null   object \n",
      " 11  Title_IMDb_Link  5000 non-null   object \n",
      "dtypes: float64(1), int64(4), object(7)\n",
      "memory usage: 468.9+ KB\n"
     ]
    }
   ],
   "source": [
    "dataframe.info()"
   ]
  },
  {
   "cell_type": "code",
   "execution_count": 21,
   "id": "29f4077a-e564-484b-a59a-9581c6c774f8",
   "metadata": {},
   "outputs": [
    {
     "data": {
      "text/plain": [
       "Index(['tconst', 'primaryTitle', 'startYear', 'rank', 'averageRating',\n",
       "       'numVotes', 'runtimeMinutes', 'directors', 'writers', 'genres',\n",
       "       'IMDbLink', 'Title_IMDb_Link'],\n",
       "      dtype='object')"
      ]
     },
     "execution_count": 21,
     "metadata": {},
     "output_type": "execute_result"
    }
   ],
   "source": [
    "dataframe.columns"
   ]
  },
  {
   "cell_type": "code",
   "execution_count": 22,
   "id": "4dec5064-6f56-4950-98c8-579068233b77",
   "metadata": {},
   "outputs": [
    {
     "data": {
      "text/plain": [
       "0    3029801\n",
       "1    2114686\n",
       "2    3006220\n",
       "3    2069149\n",
       "4    1516036\n",
       "5    1423318\n",
       "6     920152\n",
       "7    2324646\n",
       "8    2098940\n",
       "9    2670665\n",
       "Name: numVotes, dtype: int64"
      ]
     },
     "execution_count": 22,
     "metadata": {},
     "output_type": "execute_result"
    }
   ],
   "source": [
    "dataframe['numVotes'].head(10)"
   ]
  },
  {
   "cell_type": "code",
   "execution_count": 23,
   "id": "2eef64ee-c1c0-4a73-a072-295f621a5aab",
   "metadata": {},
   "outputs": [
    {
     "data": {
      "text/html": [
       "<div>\n",
       "<style scoped>\n",
       "    .dataframe tbody tr th:only-of-type {\n",
       "        vertical-align: middle;\n",
       "    }\n",
       "\n",
       "    .dataframe tbody tr th {\n",
       "        vertical-align: top;\n",
       "    }\n",
       "\n",
       "    .dataframe thead th {\n",
       "        text-align: right;\n",
       "    }\n",
       "</style>\n",
       "<table border=\"1\" class=\"dataframe\">\n",
       "  <thead>\n",
       "    <tr style=\"text-align: right;\">\n",
       "      <th></th>\n",
       "      <th>startYear</th>\n",
       "      <th>rank</th>\n",
       "      <th>averageRating</th>\n",
       "      <th>numVotes</th>\n",
       "      <th>runtimeMinutes</th>\n",
       "    </tr>\n",
       "  </thead>\n",
       "  <tbody>\n",
       "    <tr>\n",
       "      <th>count</th>\n",
       "      <td>5000.000000</td>\n",
       "      <td>5000.000000</td>\n",
       "      <td>5000.000000</td>\n",
       "      <td>5.000000e+03</td>\n",
       "      <td>5000.000000</td>\n",
       "    </tr>\n",
       "    <tr>\n",
       "      <th>mean</th>\n",
       "      <td>2002.021800</td>\n",
       "      <td>2500.500000</td>\n",
       "      <td>7.137480</td>\n",
       "      <td>1.630371e+05</td>\n",
       "      <td>114.568000</td>\n",
       "    </tr>\n",
       "    <tr>\n",
       "      <th>std</th>\n",
       "      <td>18.263517</td>\n",
       "      <td>1443.520003</td>\n",
       "      <td>0.597062</td>\n",
       "      <td>2.404189e+05</td>\n",
       "      <td>23.218088</td>\n",
       "    </tr>\n",
       "    <tr>\n",
       "      <th>min</th>\n",
       "      <td>1915.000000</td>\n",
       "      <td>1.000000</td>\n",
       "      <td>5.900000</td>\n",
       "      <td>2.500200e+04</td>\n",
       "      <td>25.000000</td>\n",
       "    </tr>\n",
       "    <tr>\n",
       "      <th>25%</th>\n",
       "      <td>1994.000000</td>\n",
       "      <td>1250.750000</td>\n",
       "      <td>6.700000</td>\n",
       "      <td>4.008625e+04</td>\n",
       "      <td>99.000000</td>\n",
       "    </tr>\n",
       "    <tr>\n",
       "      <th>50%</th>\n",
       "      <td>2007.000000</td>\n",
       "      <td>2500.500000</td>\n",
       "      <td>7.100000</td>\n",
       "      <td>7.439350e+04</td>\n",
       "      <td>111.000000</td>\n",
       "    </tr>\n",
       "    <tr>\n",
       "      <th>75%</th>\n",
       "      <td>2015.000000</td>\n",
       "      <td>3750.250000</td>\n",
       "      <td>7.600000</td>\n",
       "      <td>1.781035e+05</td>\n",
       "      <td>126.000000</td>\n",
       "    </tr>\n",
       "    <tr>\n",
       "      <th>max</th>\n",
       "      <td>2025.000000</td>\n",
       "      <td>5000.000000</td>\n",
       "      <td>9.300000</td>\n",
       "      <td>3.029801e+06</td>\n",
       "      <td>374.000000</td>\n",
       "    </tr>\n",
       "  </tbody>\n",
       "</table>\n",
       "</div>"
      ],
      "text/plain": [
       "         startYear         rank  averageRating      numVotes  runtimeMinutes\n",
       "count  5000.000000  5000.000000    5000.000000  5.000000e+03     5000.000000\n",
       "mean   2002.021800  2500.500000       7.137480  1.630371e+05      114.568000\n",
       "std      18.263517  1443.520003       0.597062  2.404189e+05       23.218088\n",
       "min    1915.000000     1.000000       5.900000  2.500200e+04       25.000000\n",
       "25%    1994.000000  1250.750000       6.700000  4.008625e+04       99.000000\n",
       "50%    2007.000000  2500.500000       7.100000  7.439350e+04      111.000000\n",
       "75%    2015.000000  3750.250000       7.600000  1.781035e+05      126.000000\n",
       "max    2025.000000  5000.000000       9.300000  3.029801e+06      374.000000"
      ]
     },
     "execution_count": 23,
     "metadata": {},
     "output_type": "execute_result"
    }
   ],
   "source": [
    "dataframe.describe()"
   ]
  },
  {
   "cell_type": "markdown",
   "id": "9dbc24a1-00c3-4eca-8227-80d8b919b21c",
   "metadata": {},
   "source": [
    "### Data Cleaning"
   ]
  },
  {
   "cell_type": "code",
   "execution_count": 25,
   "id": "9f6855f2-5577-4e1f-a6fb-5dfd28fbf87b",
   "metadata": {},
   "outputs": [
    {
     "data": {
      "text/plain": [
       "tconst              0\n",
       "primaryTitle        0\n",
       "startYear           0\n",
       "rank                0\n",
       "averageRating       0\n",
       "numVotes            0\n",
       "runtimeMinutes      0\n",
       "directors           0\n",
       "writers            26\n",
       "genres              0\n",
       "IMDbLink            0\n",
       "Title_IMDb_Link     0\n",
       "dtype: int64"
      ]
     },
     "execution_count": 25,
     "metadata": {},
     "output_type": "execute_result"
    }
   ],
   "source": [
    "dataframe.isna().sum()"
   ]
  },
  {
   "cell_type": "code",
   "execution_count": 26,
   "id": "043e93e4-d92b-4d4c-b2b7-53b8d63bff03",
   "metadata": {},
   "outputs": [],
   "source": [
    "df_cleaned = dataframe.dropna()"
   ]
  },
  {
   "cell_type": "code",
   "execution_count": 27,
   "id": "e9dda90e-03e1-4fc4-ad54-555838d9fc56",
   "metadata": {},
   "outputs": [
    {
     "data": {
      "text/plain": [
       "(4974, 12)"
      ]
     },
     "execution_count": 27,
     "metadata": {},
     "output_type": "execute_result"
    }
   ],
   "source": [
    "df_cleaned.shape"
   ]
  },
  {
   "cell_type": "code",
   "execution_count": 28,
   "id": "0cf05981-3695-4f88-a95e-b94c9d301193",
   "metadata": {},
   "outputs": [
    {
     "data": {
      "text/plain": [
       "tconst             0\n",
       "primaryTitle       0\n",
       "startYear          0\n",
       "rank               0\n",
       "averageRating      0\n",
       "numVotes           0\n",
       "runtimeMinutes     0\n",
       "directors          0\n",
       "writers            0\n",
       "genres             0\n",
       "IMDbLink           0\n",
       "Title_IMDb_Link    0\n",
       "dtype: int64"
      ]
     },
     "execution_count": 28,
     "metadata": {},
     "output_type": "execute_result"
    }
   ],
   "source": [
    "df_cleaned.isna().sum()"
   ]
  },
  {
   "cell_type": "markdown",
   "id": "99a65c59-f6ae-4f15-8274-87021c1446cf",
   "metadata": {},
   "source": [
    "### Data Anonymisation"
   ]
  },
  {
   "cell_type": "code",
   "execution_count": 30,
   "id": "612b4c2d-ff2c-458b-9f37-39aa70e7bf64",
   "metadata": {},
   "outputs": [],
   "source": [
    "# replacing entries in chosen column with unique hashcodes (recurring writers get same hashcode)\n",
    "def anonymize_column(df, column_name):\n",
    "    df[column_name] = df[column_name].apply(\n",
    "        lambda x: hashlib.sha256(x.encode()).hexdigest() if pd.notnull(x) else x\n",
    "    )\n",
    "    return df"
   ]
  },
  {
   "cell_type": "code",
   "execution_count": 31,
   "id": "9595c3a3-abfb-47e9-8125-95fa4b2714cd",
   "metadata": {},
   "outputs": [],
   "source": [
    "df_anonymised = anonymize_column(dataframe, 'writers')"
   ]
  },
  {
   "cell_type": "code",
   "execution_count": 32,
   "id": "f3c0d6a0-a2c4-4c22-a9ea-9fad16dd0c0c",
   "metadata": {},
   "outputs": [
    {
     "data": {
      "text/html": [
       "<div>\n",
       "<style scoped>\n",
       "    .dataframe tbody tr th:only-of-type {\n",
       "        vertical-align: middle;\n",
       "    }\n",
       "\n",
       "    .dataframe tbody tr th {\n",
       "        vertical-align: top;\n",
       "    }\n",
       "\n",
       "    .dataframe thead th {\n",
       "        text-align: right;\n",
       "    }\n",
       "</style>\n",
       "<table border=\"1\" class=\"dataframe\">\n",
       "  <thead>\n",
       "    <tr style=\"text-align: right;\">\n",
       "      <th></th>\n",
       "      <th>tconst</th>\n",
       "      <th>primaryTitle</th>\n",
       "      <th>startYear</th>\n",
       "      <th>rank</th>\n",
       "      <th>averageRating</th>\n",
       "      <th>numVotes</th>\n",
       "      <th>runtimeMinutes</th>\n",
       "      <th>directors</th>\n",
       "      <th>writers</th>\n",
       "      <th>genres</th>\n",
       "      <th>IMDbLink</th>\n",
       "      <th>Title_IMDb_Link</th>\n",
       "    </tr>\n",
       "  </thead>\n",
       "  <tbody>\n",
       "    <tr>\n",
       "      <th>0</th>\n",
       "      <td>tt0111161</td>\n",
       "      <td>The Shawshank Redemption</td>\n",
       "      <td>1994</td>\n",
       "      <td>1</td>\n",
       "      <td>9.3</td>\n",
       "      <td>3029801</td>\n",
       "      <td>142</td>\n",
       "      <td>Frank Darabont</td>\n",
       "      <td>d3535359f00990d2a5756d0fb5623d2b121e8c88d5652b...</td>\n",
       "      <td>Drama</td>\n",
       "      <td>&lt;a href=\"https://www.imdb.com/title/tt0111161\"...</td>\n",
       "      <td>&lt;a href=\"https://www.imdb.com/title/tt0111161\"...</td>\n",
       "    </tr>\n",
       "    <tr>\n",
       "      <th>1</th>\n",
       "      <td>tt0068646</td>\n",
       "      <td>The Godfather</td>\n",
       "      <td>1972</td>\n",
       "      <td>2</td>\n",
       "      <td>9.2</td>\n",
       "      <td>2114686</td>\n",
       "      <td>175</td>\n",
       "      <td>Francis Ford Coppola</td>\n",
       "      <td>3eeb4fb28709dc533b1d01faadfda417449e7032a5cb6c...</td>\n",
       "      <td>Crime, Drama</td>\n",
       "      <td>&lt;a href=\"https://www.imdb.com/title/tt0068646\"...</td>\n",
       "      <td>&lt;a href=\"https://www.imdb.com/title/tt0068646\"...</td>\n",
       "    </tr>\n",
       "    <tr>\n",
       "      <th>2</th>\n",
       "      <td>tt0468569</td>\n",
       "      <td>The Dark Knight</td>\n",
       "      <td>2008</td>\n",
       "      <td>3</td>\n",
       "      <td>9.0</td>\n",
       "      <td>3006220</td>\n",
       "      <td>152</td>\n",
       "      <td>Christopher Nolan</td>\n",
       "      <td>9d592b4a4c3fc04607f53f7bc79cf3166187ef3b7f2ea2...</td>\n",
       "      <td>Action, Crime, Drama</td>\n",
       "      <td>&lt;a href=\"https://www.imdb.com/title/tt0468569\"...</td>\n",
       "      <td>&lt;a href=\"https://www.imdb.com/title/tt0468569\"...</td>\n",
       "    </tr>\n",
       "  </tbody>\n",
       "</table>\n",
       "</div>"
      ],
      "text/plain": [
       "      tconst              primaryTitle  startYear  rank  averageRating  \\\n",
       "0  tt0111161  The Shawshank Redemption       1994     1            9.3   \n",
       "1  tt0068646             The Godfather       1972     2            9.2   \n",
       "2  tt0468569           The Dark Knight       2008     3            9.0   \n",
       "\n",
       "   numVotes  runtimeMinutes             directors  \\\n",
       "0   3029801             142        Frank Darabont   \n",
       "1   2114686             175  Francis Ford Coppola   \n",
       "2   3006220             152     Christopher Nolan   \n",
       "\n",
       "                                             writers                genres  \\\n",
       "0  d3535359f00990d2a5756d0fb5623d2b121e8c88d5652b...                 Drama   \n",
       "1  3eeb4fb28709dc533b1d01faadfda417449e7032a5cb6c...          Crime, Drama   \n",
       "2  9d592b4a4c3fc04607f53f7bc79cf3166187ef3b7f2ea2...  Action, Crime, Drama   \n",
       "\n",
       "                                            IMDbLink  \\\n",
       "0  <a href=\"https://www.imdb.com/title/tt0111161\"...   \n",
       "1  <a href=\"https://www.imdb.com/title/tt0068646\"...   \n",
       "2  <a href=\"https://www.imdb.com/title/tt0468569\"...   \n",
       "\n",
       "                                     Title_IMDb_Link  \n",
       "0  <a href=\"https://www.imdb.com/title/tt0111161\"...  \n",
       "1  <a href=\"https://www.imdb.com/title/tt0068646\"...  \n",
       "2  <a href=\"https://www.imdb.com/title/tt0468569\"...  "
      ]
     },
     "execution_count": 32,
     "metadata": {},
     "output_type": "execute_result"
    }
   ],
   "source": [
    "df_anonymised.head(3)"
   ]
  },
  {
   "cell_type": "markdown",
   "id": "779673b1-eca1-4d0d-9470-b10820dd9cd4",
   "metadata": {},
   "source": [
    "### Visualisation Techniques"
   ]
  },
  {
   "cell_type": "markdown",
   "id": "955d8032-1dc0-453d-8654-d0a7f2d96ad0",
   "metadata": {},
   "source": [
    "##### Genres"
   ]
  },
  {
   "cell_type": "code",
   "execution_count": 35,
   "id": "871693d4-89e9-4e62-9c81-42b784924ba2",
   "metadata": {},
   "outputs": [],
   "source": [
    "# Split genres by , to ensure we catch multiple genres with each on its own row\n",
    "genres = dataframe['genres'].dropna().str.split(',').explode()"
   ]
  },
  {
   "cell_type": "code",
   "execution_count": 36,
   "id": "f9eb08c3-a552-491a-8264-b8a94b7456f7",
   "metadata": {},
   "outputs": [],
   "source": [
    "# Count occurences of each genre, to find the top 10 most common\n",
    "genre_counts = genres.value_counts().head(10)"
   ]
  },
  {
   "cell_type": "code",
   "execution_count": 37,
   "id": "6a8560b6-e543-49bc-849f-ab283bcf1e35",
   "metadata": {},
   "outputs": [
    {
     "name": "stderr",
     "output_type": "stream",
     "text": [
      "C:\\Users\\nifje\\AppData\\Local\\Temp\\ipykernel_27796\\1315583929.py:3: FutureWarning: \n",
      "\n",
      "Passing `palette` without assigning `hue` is deprecated and will be removed in v0.14.0. Assign the `y` variable to `hue` and set `legend=False` for the same effect.\n",
      "\n",
      "  sb.barplot(x=genre_counts.values, y=genre_counts.index, palette='viridis', legend=False)\n"
     ]
    },
    {
     "data": {
      "image/png": "[encoded data removed]",
      "text/plain": [
       "<Figure size 1000x600 with 1 Axes>"
      ]
     },
     "metadata": {},
     "output_type": "display_data"
    }
   ],
   "source": [
    "# Plot the data for visual presentation\n",
    "mpl.figure(figsize=(10, 6))\n",
    "sb.barplot(x=genre_counts.values, y=genre_counts.index, palette='viridis', legend=False)\n",
    "mpl.title('Top 10 Genres by Count', fontsize=14)\n",
    "mpl.xlabel('Count')\n",
    "mpl.ylabel('Genre')\n",
    "mpl.tight_layout()\n",
    "mpl.show()"
   ]
  },
  {
   "cell_type": "markdown",
   "id": "64a048e0-725e-4a70-98c3-cba14d7e5633",
   "metadata": {},
   "source": [
    "##### Directors"
   ]
  },
  {
   "cell_type": "code",
   "execution_count": 39,
   "id": "6cd7d858-2330-47d3-a07e-5b4cf5ea2c73",
   "metadata": {},
   "outputs": [],
   "source": [
    "# New df with only directors and avg rating\n",
    "director_ratings_df = dataframe[['directors', 'averageRating']].dropna()"
   ]
  },
  {
   "cell_type": "code",
   "execution_count": 40,
   "id": "2bd9e27e-6b2b-422e-9b5d-7a3c3790e30c",
   "metadata": {},
   "outputs": [],
   "source": [
    "# GroupBy director and calculate avg rating and number of movies (to later exclude one-hit wonders and keep established directors)\n",
    "director_stats = director_ratings_df.groupby('directors').agg(\n",
    "    average_rating=('averageRating', 'mean'),\n",
    "    movie_count=('averageRating', 'count')\n",
    ")"
   ]
  },
  {
   "cell_type": "code",
   "execution_count": 41,
   "id": "0200ebe4-0fc5-469d-9024-ea0d08676a9a",
   "metadata": {},
   "outputs": [],
   "source": [
    "# Directors must have a minimum of 3 movies to their name\n",
    "director_stats_filtered = director_stats[director_stats['movie_count'] >= 3]"
   ]
  },
  {
   "cell_type": "code",
   "execution_count": 42,
   "id": "31bf78a3-d61f-4c36-b967-3390d6a190a0",
   "metadata": {},
   "outputs": [],
   "source": [
    "# Find the top 20 by avg rating\n",
    "top_directors = director_stats_filtered.sort_values(by='average_rating', ascending=False).head(20)"
   ]
  },
  {
   "cell_type": "code",
   "execution_count": 43,
   "id": "a7908ae0-b33a-4b6b-a030-e69db4890ece",
   "metadata": {},
   "outputs": [
    {
     "name": "stderr",
     "output_type": "stream",
     "text": [
      "C:\\Users\\nifje\\AppData\\Local\\Temp\\ipykernel_27796\\913926641.py:3: FutureWarning: \n",
      "\n",
      "Passing `palette` without assigning `hue` is deprecated and will be removed in v0.14.0. Assign the `y` variable to `hue` and set `legend=False` for the same effect.\n",
      "\n",
      "  sb.barplot(\n"
     ]
    },
    {
     "data": {
      "image/png": "[encoded data removed]",
      "text/plain": [
       "<Figure size 1000x600 with 1 Axes>"
      ]
     },
     "metadata": {},
     "output_type": "display_data"
    }
   ],
   "source": [
    "# Plot the data for visual presentation\n",
    "mpl.figure(figsize=(10, 6))\n",
    "sb.barplot(\n",
    "    x=top_directors['average_rating'],\n",
    "    y=top_directors.index,\n",
    "    palette='Set3',\n",
    "    legend=False\n",
    ")\n",
    "mpl.title('Top 20 Directors by Average IMDb Rating (Min. 3 Movies)', fontsize=14)\n",
    "mpl.xlabel('Average Rating')\n",
    "mpl.ylabel('Director')\n",
    "mpl.tight_layout()\n",
    "mpl.show()"
   ]
  },
  {
   "cell_type": "markdown",
   "id": "e3ddb41d-558b-4d2c-aef6-b263b1376684",
   "metadata": {},
   "source": [
    "##### Chose not to include Data Inputing as the only missign data entries were a few missing writers. Didn't make sense to \"fill\" those out with random values."
   ]
  }
 ],
 "metadata": {
  "kernelspec": {
   "display_name": "Python [conda env:base] *",
   "language": "python",
   "name": "conda-base-py"
  },
  "language_info": {
   "codemirror_mode": {
    "name": "ipython",
    "version": 3
   },
   "file_extension": ".py",
   "mimetype": "text/x-python",
   "name": "python",
   "nbconvert_exporter": "python",
   "pygments_lexer": "ipython3",
   "version": "3.12.7"
  }
 },
 "nbformat": 4,
 "nbformat_minor": 5
}
