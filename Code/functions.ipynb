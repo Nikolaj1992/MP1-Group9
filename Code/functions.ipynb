{
 "cells": [
  {
   "cell_type": "code",
   "execution_count": 14,
   "id": "4b8fa914-a9c9-4a68-9507-f5830e5089b8",
   "metadata": {},
   "outputs": [],
   "source": [
    "def visualize_data(df):\n",
    "    # Lav en figur med 2 subplots\n",
    "    fig, (ax1, ax2) = plt.subplots(2, 1, figsize=(15, 12))\n",
    "    \n",
    "    # Plot 1: Top 10 lande med højeste total score\n",
    "    top_10 = df.nlargest(10, 'Total')\n",
    "    sns.barplot(data=top_10, x='Total', y='Country', ax=ax1)\n",
    "    ax1.set_title('Top 10 Mest Fragile Stater 2023', fontsize=14)\n",
    "    ax1.set_xlabel('Total Score')\n",
    "    ax1.set_ylabel('Land')\n",
    "    \n",
    "    # Plot 2: Sammenligning af forskellige indikatorer for top 5 lande\n",
    "    indicators = ['S1: Demographic Pressures', 'S2: Refugees and IDPs', \n",
    "                 'E1: Economy', 'P3: Human Rights']\n",
    "    top_5 = df.nlargest(5, 'Total')\n",
    "    \n",
    "    data_melted = top_5.melt(id_vars=['Country'], \n",
    "                            value_vars=indicators,\n",
    "                            var_name='Indicator', \n",
    "                            value_name='Score')\n",
    "    \n",
    "    sns.barplot(data=data_melted, x='Score', y='Country', \n",
    "                hue='Indicator', ax=ax2)\n",
    "    ax2.set_title('Forskellige Indikatorer for Top 5 Mest Fragile Stater', fontsize=14)\n",
    "    ax2.set_xlabel('Score')\n",
    "    ax2.set_ylabel('Land')\n",
    "    \n",
    "    plt.tight_layout()\n",
    "    plt.show()\n",
    "    \n",
    "    # Bonus: Monster Hunter Time!\n",
    "    \n",
    "    print(\"\"\"\n",
    "    =====================================\n",
    "          BOSS BATTLE BEGUN \n",
    "    =====================================\n",
    "                         /\\\\__/\\\\  \n",
    "                         |ಠ ಠ|  \n",
    "       \\\\[T]/   \\\\[+]/      \\\\▼▼/   \n",
    "        |=|     |†|      /^^^^^\\\\\n",
    "       / \\\\     / \\\\     <<|||||>>\n",
    "                         \n",
    "   =====================================\n",
    "          BOSS BATTLE BEGUN \n",
    "   =====================================\n",
    "    \n",
    "    \"\"\")"
   ]
  },
  {
   "cell_type": "code",
   "execution_count": null,
   "id": "822a493d-6efa-4e97-a270-ce4cf0ec209d",
   "metadata": {},
   "outputs": [],
   "source": []
  }
 ],
 "metadata": {
  "kernelspec": {
   "display_name": "Python [conda env:base] *",
   "language": "python",
   "name": "conda-base-py"
  },
  "language_info": {
   "codemirror_mode": {
    "name": "ipython",
    "version": 3
   },
   "file_extension": ".py",
   "mimetype": "text/x-python",
   "name": "python",
   "nbconvert_exporter": "python",
   "pygments_lexer": "ipython3",
   "version": "3.12.7"
  }
 },
 "nbformat": 4,
 "nbformat_minor": 5
}
