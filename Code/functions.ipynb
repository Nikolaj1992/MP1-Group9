{
 "cells": [
  {
   "cell_type": "code",
   "execution_count": 1,
   "id": "4b8fa914-a9c9-4a68-9507-f5830e5089b8",
   "metadata": {},
   "outputs": [],
   "source": [
    "import pandas as pd\n",
    "import numpy as np\n",
    "import matplotlib.pyplot as plt\n",
    "import seaborn as sns\n",
    "\n",
    "\n",
    "def load_excel(filepath):\n",
    "    return pd.read_excel(filepath)\n",
    "\n",
    "def clean_data(df):\n",
    "    df = df.drop_duplicates()\n",
    "    df = df.fillna(0) \n",
    "    return df\n",
    "\n",
    "def visualize_data(df):\n",
    "    plt.figure(figsize=(10,6))\n",
    "    plt.show()"
   ]
  },
  {
   "cell_type": "code",
   "execution_count": null,
   "id": "822a493d-6efa-4e97-a270-ce4cf0ec209d",
   "metadata": {},
   "outputs": [],
   "source": []
  }
 ],
 "metadata": {
  "kernelspec": {
   "display_name": "Python [conda env:base] *",
   "language": "python",
   "name": "conda-base-py"
  },
  "language_info": {
   "codemirror_mode": {
    "name": "ipython",
    "version": 3
   },
   "file_extension": ".py",
   "mimetype": "text/x-python",
   "name": "python",
   "nbconvert_exporter": "python",
   "pygments_lexer": "ipython3",
   "version": "3.12.7"
  }
 },
 "nbformat": 4,
 "nbformat_minor": 5
}
