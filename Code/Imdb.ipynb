{
 "cells": [
  {
   "cell_type": "code",
   "execution_count": null,
   "id": "abab60cd-835a-408b-b929-664a68945e6a",
   "metadata": {},
   "outputs": [],
   "source": []
  }
 ],
 "metadata": {
  "kernelspec": {
   "display_name": "",
   "name": ""
  },
  "language_info": {
   "name": ""
  }
 },
 "nbformat": 4,
 "nbformat_minor": 5
}
