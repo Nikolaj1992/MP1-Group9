{
 "cells": [
  {
   "cell_type": "markdown",
   "id": "240ffee0-9f79-4969-8368-43c0db4515da",
   "metadata": {},
   "source": [
    "## MP-3 Project"
   ]
  },
  {
   "cell_type": "code",
   "execution_count": null,
   "id": "2220d90d-79d0-447a-a3de-598da0650b54",
   "metadata": {},
   "outputs": [],
   "source": [
    "import pandas as pd, numpy as np, seaborn as sbn, matplotlib.pyplot as plt\n",
    "\n",
    "from Modules import utils as utl\n",
    "from Modules import data_exploration as de"
   ]
  },
  {
   "cell_type": "code",
   "execution_count": null,
   "id": "39f504b5-01a7-4c6a-a7ae-83009b544f46",
   "metadata": {},
   "outputs": [],
   "source": [
    "from sklearn.model_selection import train_test_split\n",
    "from sklearn import linear_model\n",
    "from sklearn.linear_model import LinearRegression\n",
    "import sklearn.metrics as sm"
   ]
  },
  {
   "cell_type": "code",
   "execution_count": null,
   "id": "ffdbac85-74be-42d4-acf7-0b74464edce1",
   "metadata": {},
   "outputs": [],
   "source": [
    "import pickle"
   ]
  },
  {
   "cell_type": "markdown",
   "id": "b0db0456-682e-454a-81f2-b9d33667ded8",
   "metadata": {},
   "source": [
    "### Data Loading & Cleaning"
   ]
  },
  {
   "cell_type": "code",
   "execution_count": null,
   "id": "e46ce3fc-6241-4143-8e99-68d64df02540",
   "metadata": {},
   "outputs": [],
   "source": [
    "csv_file_path = 'Data/song_data.csv'\n",
    "eurovision_df = utl.load_csv(csv_file_path, skiprows=0, encoding='windows-1252')"
   ]
  },
  {
   "cell_type": "code",
   "execution_count": null,
   "id": "2a0972bb-2205-4e76-893a-58771e934793",
   "metadata": {},
   "outputs": [],
   "source": [
    "eurovision_df"
   ]
  },
  {
   "cell_type": "code",
   "execution_count": null,
   "id": "5d5decc7-762b-4384-abf2-452fdb08da35",
   "metadata": {},
   "outputs": [],
   "source": [
    "eurovision_df.isna().sum()"
   ]
  },
  {
   "cell_type": "code",
   "execution_count": null,
   "id": "07bbdb99-5eef-41d3-beb8-22f2f5522bbe",
   "metadata": {},
   "outputs": [],
   "source": [
    "DATAweWANT_df = utl.remove_missing(eurovision_df, columns='final_place')"
   ]
  },
  {
   "cell_type": "markdown",
   "id": "3877a34e-e73f-4822-ba6a-197193638c78",
   "metadata": {},
   "source": [
    "### Data Exploration"
   ]
  },
  {
   "cell_type": "code",
   "execution_count": null,
   "id": "b8800a8f-35a3-46cf-9278-3198757fba2c",
   "metadata": {},
   "outputs": [],
   "source": [
    "DATAweWANT_df.info()"
   ]
  },
  {
   "cell_type": "code",
   "execution_count": null,
   "id": "b90b64dd-9e3b-4a09-a8fb-e27d2b8d4f93",
   "metadata": {},
   "outputs": [],
   "source": [
    "DATAweWANT_df.describe()"
   ]
  }
 ],
 "metadata": {
  "kernelspec": {
   "display_name": "Python [conda env:base] *",
   "language": "python",
   "name": "conda-base-py"
  },
  "language_info": {
   "codemirror_mode": {
    "name": "ipython",
    "version": 3
   },
   "file_extension": ".py",
   "mimetype": "text/x-python",
   "name": "python",
   "nbconvert_exporter": "python",
   "pygments_lexer": "ipython3",
   "version": "3.12.7"
  }
 },
 "nbformat": 4,
 "nbformat_minor": 5
}
