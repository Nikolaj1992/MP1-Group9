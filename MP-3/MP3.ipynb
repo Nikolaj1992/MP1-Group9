{
 "cells": [
  {
   "cell_type": "markdown",
   "id": "240ffee0-9f79-4969-8368-43c0db4515da",
   "metadata": {},
   "source": [
    "## MP-3 Project"
   ]
  },
  {
   "cell_type": "code",
   "execution_count": null,
   "id": "2220d90d-79d0-447a-a3de-598da0650b54",
   "metadata": {},
   "outputs": [],
   "source": [
    "import pandas as pd, numpy as np, seaborn as sbn, matplotlib.pyplot as plt\n",
    "\n",
    "from Modules import utils as utl\n",
    "from Modules import data_exploration as de\n",
    "from Modules import machine_learning as ml"
   ]
  },
  {
   "cell_type": "code",
   "execution_count": null,
   "id": "39f504b5-01a7-4c6a-a7ae-83009b544f46",
   "metadata": {},
   "outputs": [],
   "source": [
    "from sklearn.model_selection import train_test_split\n",
    "from sklearn import linear_model\n",
    "from sklearn.linear_model import LinearRegression\n",
    "import sklearn.metrics as sm"
   ]
  },
  {
   "cell_type": "code",
   "execution_count": null,
   "id": "ffdbac85-74be-42d4-acf7-0b74464edce1",
   "metadata": {},
   "outputs": [],
   "source": [
    "import pickle"
   ]
  },
  {
   "cell_type": "markdown",
   "id": "b0db0456-682e-454a-81f2-b9d33667ded8",
   "metadata": {},
   "source": [
    "### Data Loading & Cleaning"
   ]
  },
  {
   "cell_type": "code",
   "execution_count": null,
   "id": "e46ce3fc-6241-4143-8e99-68d64df02540",
   "metadata": {},
   "outputs": [],
   "source": [
    "csv_file_path = 'Data/song_data.csv'\n",
    "eurovision_df = utl.load_csv(csv_file_path, skiprows=0, encoding='windows-1252')"
   ]
  },
  {
   "cell_type": "code",
   "execution_count": null,
   "id": "2a0972bb-2205-4e76-893a-58771e934793",
   "metadata": {},
   "outputs": [],
   "source": [
    "eurovision_df"
   ]
  },
  {
   "cell_type": "code",
   "execution_count": null,
   "id": "5d5decc7-762b-4384-abf2-452fdb08da35",
   "metadata": {},
   "outputs": [],
   "source": [
    "eurovision_df.isna().sum()"
   ]
  },
  {
   "cell_type": "markdown",
   "id": "605eecae-265e-4911-89c3-4a3cde126f49",
   "metadata": {},
   "source": [
    "##### The dataset has numerous null values, however this is more due to the nature of the Eurovision Song Contest rather than faulty data. For instance, all the contestants of each year who performed in the semi-finals but never made it through to the final will have null values in all final related features. While some semi-final features must also be expected to be null due to some nations being automatically qualified to the final, each year."
   ]
  },
  {
   "cell_type": "code",
   "execution_count": null,
   "id": "07bbdb99-5eef-41d3-beb8-22f2f5522bbe",
   "metadata": {},
   "outputs": [],
   "source": [
    "finalists_df = utl.remove_missing(eurovision_df, columns='final_place')"
   ]
  },
  {
   "cell_type": "markdown",
   "id": "3b2c35a9-2af5-49e7-93ac-6d39e6c5d719",
   "metadata": {},
   "source": [
    "##### Now we have two dataframes. eurovision_df with all the data and finalists_df for only the songs that made it to the final."
   ]
  },
  {
   "cell_type": "code",
   "execution_count": null,
   "id": "b67de82b-98e2-476b-88d2-be9813d292c3",
   "metadata": {},
   "outputs": [],
   "source": [
    "finalists_df.isna().sum()"
   ]
  },
  {
   "cell_type": "markdown",
   "id": "92401cc8-9c0b-4fb2-9760-4530d6f40f17",
   "metadata": {},
   "source": [
    "##### Now to remove some columns we don't need."
   ]
  },
  {
   "cell_type": "code",
   "execution_count": null,
   "id": "9e1bc1ed-68cd-47e3-a4c5-1cb2eb18ba8d",
   "metadata": {},
   "outputs": [],
   "source": [
    "columns_to_remove = [\n",
    "    'artist_name', 'song_name', 'BPM', 'energy', 'danceability', 'happiness',\n",
    "    'loudness', 'acousticness', 'instrumentalness', 'liveness', 'speechiness',\n",
    "    'backing_dancers', 'backing_singers', 'backing_instruments', 'instrument_10',\n",
    "    'race', 'favourite_10', 'host_10', 'age', 'gender', 'main_singers', 'key',\n",
    "    'key_change_10', 'selection', 'release_date', 'direct_qualifier_10', 'qualified_10',\n",
    "    'language'\n",
    "]"
   ]
  },
  {
   "cell_type": "code",
   "execution_count": null,
   "id": "be64b070-9118-4510-9ff1-00a1db4a9183",
   "metadata": {},
   "outputs": [],
   "source": [
    "eurovision_clean_df = eurovision_df.drop(columns=columns_to_remove)\n",
    "finalists_clean_df = finalists_df.drop(columns=columns_to_remove)"
   ]
  },
  {
   "cell_type": "code",
   "execution_count": null,
   "id": "4e7eea5b-bae2-4efc-9f67-49e32fbb97e1",
   "metadata": {},
   "outputs": [],
   "source": [
    "eurovision_clean_df.sample(5)"
   ]
  },
  {
   "cell_type": "code",
   "execution_count": null,
   "id": "f61b3704-b5b7-4ede-9e99-1bc07cbeba1d",
   "metadata": {},
   "outputs": [],
   "source": [
    "eurovision_clean_df.to_csv('Data/eurovision_cleaned.csv', index=False)"
   ]
  },
  {
   "cell_type": "code",
   "execution_count": null,
   "id": "74407a47-85e0-425b-a967-fab37d31e595",
   "metadata": {},
   "outputs": [],
   "source": [
    "more_columns_to_remove = [\n",
    "    'semi_final', 'semi_draw_position', 'semi_place', 'semi_televote_points',\n",
    "    'semi_jury_points', 'semi_total_points'\n",
    "]"
   ]
  },
  {
   "cell_type": "code",
   "execution_count": null,
   "id": "75e5b6f2-bb02-4f61-9629-a20b5ce554a5",
   "metadata": {},
   "outputs": [],
   "source": [
    "finalists_clean_df = finalists_clean_df.drop(columns=more_columns_to_remove)"
   ]
  },
  {
   "cell_type": "code",
   "execution_count": null,
   "id": "e1c5065c-e76b-4ee3-a638-83dcc05d211d",
   "metadata": {},
   "outputs": [],
   "source": [
    "finalists_clean_df.sample(5)"
   ]
  },
  {
   "cell_type": "code",
   "execution_count": null,
   "id": "f90e4a6c-b34c-409b-a2b3-d986cceba295",
   "metadata": {},
   "outputs": [],
   "source": [
    "finalists_clean_df.to_csv('Data/finalists_cleaned.csv', index=False)"
   ]
  },
  {
   "cell_type": "markdown",
   "id": "3877a34e-e73f-4822-ba6a-197193638c78",
   "metadata": {},
   "source": [
    "### Data Exploration"
   ]
  },
  {
   "cell_type": "code",
   "execution_count": null,
   "id": "2ff7cf40-b66e-4c70-a308-44d85d6ff143",
   "metadata": {},
   "outputs": [],
   "source": [
    "eurovision_clean_df.info()"
   ]
  },
  {
   "cell_type": "code",
   "execution_count": null,
   "id": "2808baaa-822b-4b40-8794-29a6899d9ff6",
   "metadata": {},
   "outputs": [],
   "source": [
    "eurovision_clean_df.describe()"
   ]
  },
  {
   "cell_type": "code",
   "execution_count": null,
   "id": "b8800a8f-35a3-46cf-9278-3198757fba2c",
   "metadata": {},
   "outputs": [],
   "source": [
    "finalists_clean_df.info()"
   ]
  },
  {
   "cell_type": "code",
   "execution_count": null,
   "id": "b90b64dd-9e3b-4a09-a8fb-e27d2b8d4f93",
   "metadata": {},
   "outputs": [],
   "source": [
    "finalists_clean_df.describe()"
   ]
  },
  {
   "cell_type": "markdown",
   "id": "f77f6db2-ef66-4694-b0a7-be05fda7bc9f",
   "metadata": {},
   "source": [
    "### Data loading, cleaning and exploration of semifinal data (removal of Big-5 countries and host country)"
   ]
  },
  {
   "cell_type": "code",
   "execution_count": null,
   "id": "5702c113-4269-45cd-b947-69a93bc4c842",
   "metadata": {},
   "outputs": [],
   "source": [
    "esc_sf_df = utl.remove_missing(eurovision_clean_df, columns='semi_place')"
   ]
  },
  {
   "cell_type": "code",
   "execution_count": null,
   "id": "8939de90-caa9-4da4-bac4-edb9d7f52486",
   "metadata": {},
   "outputs": [],
   "source": [
    "esc_sf_df.describe()"
   ]
  },
  {
   "cell_type": "code",
   "execution_count": null,
   "id": "81895044-8a3f-45ec-8bbd-6714d0e45861",
   "metadata": {},
   "outputs": [],
   "source": [
    "esc_sf_df.info()"
   ]
  },
  {
   "cell_type": "code",
   "execution_count": null,
   "id": "9ae3cd56-9cdb-4255-b5ca-68b5f6b71033",
   "metadata": {},
   "outputs": [],
   "source": [
    "more_columns_to_remove_semivers = [\n",
    "    'final_draw_position', 'final_televote_points', 'final_jury_points', 'final_televote_votes', 'final_jury_votes', 'final_place', 'final_total_points'\n",
    "]"
   ]
  },
  {
   "cell_type": "code",
   "execution_count": null,
   "id": "c5f1be70-9288-4394-9e25-72d4c85c5d40",
   "metadata": {},
   "outputs": [],
   "source": [
    "esc_sf_clean_df = esc_sf_df.drop(columns=more_columns_to_remove_semivers)"
   ]
  },
  {
   "cell_type": "code",
   "execution_count": null,
   "id": "d2125c8e-0da8-4762-adf9-8cbb324af718",
   "metadata": {},
   "outputs": [],
   "source": [
    "esc_sf_clean_df.to_csv('Data/semifinalists_cleaned.csv', index=False)"
   ]
  },
  {
   "cell_type": "code",
   "execution_count": null,
   "id": "be9159cc-f9e4-4d64-97cd-9457b07127b7",
   "metadata": {},
   "outputs": [],
   "source": [
    "esc_sf_clean_df.sample(5)"
   ]
  },
  {
   "cell_type": "code",
   "execution_count": null,
   "id": "f35a3191-4a96-4ca3-99c7-a7e1ff082512",
   "metadata": {},
   "outputs": [],
   "source": [
    "esc_sf_clean_df.info()"
   ]
  },
  {
   "cell_type": "code",
   "execution_count": null,
   "id": "df9d067d-ea53-43d7-8c0a-2727b5e0895f",
   "metadata": {},
   "outputs": [],
   "source": [
    "esc_sf_clean_df.describe()"
   ]
  },
  {
   "cell_type": "code",
   "execution_count": null,
   "id": "15aab2a8-59af-4927-9824-8f0a7a471b5a",
   "metadata": {},
   "outputs": [],
   "source": []
  }
 ],
 "metadata": {
  "kernelspec": {
   "display_name": "Python [conda env:base] *",
   "language": "python",
   "name": "conda-base-py"
  },
  "language_info": {
   "codemirror_mode": {
    "name": "ipython",
    "version": 3
   },
   "file_extension": ".py",
   "mimetype": "text/x-python",
   "name": "python",
   "nbconvert_exporter": "python",
   "pygments_lexer": "ipython3",
   "version": "3.12.7"
  }
 },
 "nbformat": 4,
 "nbformat_minor": 5
}
