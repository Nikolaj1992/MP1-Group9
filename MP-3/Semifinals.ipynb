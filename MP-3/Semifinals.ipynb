{
 "cells": [
  {
   "cell_type": "markdown",
   "id": "7955d0e3-ada5-466f-8d6a-6e72880f7d36",
   "metadata": {},
   "source": [
    "## MP-3 Project - Analysis of ESC Semifinals running order and results"
   ]
  },
  {
   "cell_type": "code",
   "execution_count": null,
   "id": "2b058da8-e70b-421f-95e8-ca63a01f273e",
   "metadata": {},
   "outputs": [],
   "source": [
    "import pandas as pd, numpy as np, seaborn as sbn, matplotlib.pyplot as plt\n",
    "\n",
    "from Modules import utils as utl\n",
    "from Modules import data_exploration as de\n",
    "from sklearn.model_selection import train_test_split\n",
    "from sklearn import linear_model\n",
    "from sklearn.linear_model import LinearRegression\n",
    "from sklearn.pipeline import Pipeline\n",
    "from sklearn.impute import SimpleImputer\n",
    "import sklearn.metrics as sm\n",
    "import pickle"
   ]
  },
  {
   "cell_type": "code",
   "execution_count": null,
   "id": "6ef7349c-d0fc-4e2f-80d7-0ede638aacde",
   "metadata": {},
   "outputs": [],
   "source": [
    "csv_file_path = 'Data/semifinalists_cleaned.csv'\n",
    "eurovision_semi_df = utl.load_csv(csv_file_path, skiprows=0, encoding='windows-1252')"
   ]
  },
  {
   "cell_type": "code",
   "execution_count": null,
   "id": "b81e484d-eef8-43d3-9837-18639db65a10",
   "metadata": {},
   "outputs": [],
   "source": [
    "eurovision_semi_df"
   ]
  },
  {
   "cell_type": "code",
   "execution_count": null,
   "id": "f277759a-0202-4e50-b709-08cc459a78be",
   "metadata": {},
   "outputs": [],
   "source": [
    "eurovision_semi_df.shape"
   ]
  },
  {
   "cell_type": "code",
   "execution_count": null,
   "id": "a4406c58-d4a9-4d7b-ba65-dd1f7ce89c50",
   "metadata": {},
   "outputs": [],
   "source": [
    "# visualise the features and the response using scatterplots\n",
    "sbn.pairplot(eurovision_semi_df, x_vars=['semi_draw_position'], y_vars='semi_place', height=5, aspect=0.8)\n",
    "plt.show()"
   ]
  },
  {
   "cell_type": "code",
   "execution_count": null,
   "id": "5b6a652d-71fd-460c-b6a4-dfddf34a06bf",
   "metadata": {},
   "outputs": [],
   "source": [
    "# histograms\n",
    "hist = eurovision_semi_df.hist()"
   ]
  },
  {
   "cell_type": "markdown",
   "id": "6874adc9-eef8-4137-a983-e60df4ab12d8",
   "metadata": {},
   "source": [
    "### Trying to figure out why there is a gap between 7.5 and 10 in semi_draw_position and semi_place"
   ]
  },
  {
   "cell_type": "code",
   "execution_count": null,
   "id": "fa5acc2d-e0c7-47b1-904f-bef38432a809",
   "metadata": {},
   "outputs": [],
   "source": [
    "eurovision_semi_df['semi_draw_position'].hist()"
   ]
  },
  {
   "cell_type": "code",
   "execution_count": null,
   "id": "4f9db941-26b5-4305-8f0c-254d237c73fe",
   "metadata": {},
   "outputs": [],
   "source": [
    "not_semi_places = ['semi_final', 'country', 'style', 'semi_televote_points', 'semi_jury_points', 'semi_total_points']"
   ]
  },
  {
   "cell_type": "code",
   "execution_count": null,
   "id": "6c05d3d6-8b2e-4a43-aa9c-78d744d71b98",
   "metadata": {},
   "outputs": [],
   "source": [
    "semi_places = eurovision_semi_df.drop(columns=not_semi_places)"
   ]
  },
  {
   "cell_type": "code",
   "execution_count": null,
   "id": "aab56549-7e28-423f-b673-8ee317e991c3",
   "metadata": {},
   "outputs": [],
   "source": [
    "semi_places.info()"
   ]
  },
  {
   "cell_type": "code",
   "execution_count": null,
   "id": "dcdb7495-973d-41bd-93c5-ada2728ea3b2",
   "metadata": {},
   "outputs": [],
   "source": [
    "# Count the number of occurrences of each place in 'semi_place'\n",
    "place_counts = eurovision_semi_df['semi_place'].value_counts().sort_index()\n",
    "\n",
    "# Display the counts\n",
    "print(place_counts)\n"
   ]
  },
  {
   "cell_type": "code",
   "execution_count": null,
   "id": "d46162f8-0b12-46e4-b725-f72bd7fe7c2c",
   "metadata": {},
   "outputs": [],
   "source": [
    "# Count the number of occurrences of each place in 'semi_place'\n",
    "place_counts = eurovision_semi_df['semi_draw_position'].value_counts().sort_index()\n",
    "\n",
    "# Display the counts\n",
    "print(place_counts)\n",
    "# the reason for the 2 missing entries at semi_draw_position 1 - is because those 2 entries are missing semi_place data, so they are quite difficult to work around."
   ]
  },
  {
   "cell_type": "code",
   "execution_count": null,
   "id": "b7d41da0-8881-4f36-aa40-a3743e068c93",
   "metadata": {},
   "outputs": [],
   "source": [
    "# Define custom bin edges to combat a skewed distribution in the intervals - as the positions will always be integers and never floating points - so the intervals are misleading\n",
    "bin_edges = [1, 2, 3, 4, 5, 6, 7, 8, 9, 10, 11, 12, 13, 14, 15, 16, 17, 18, 19, 20]\n",
    "\n",
    "# Plot histogram with custom bin edges\n",
    "plt.hist(eurovision_semi_df['semi_draw_position'], bins=bin_edges, edgecolor='black')\n",
    "plt.title('Distribution of Semi-Positions')\n",
    "plt.xlabel('Semi-Positions')\n",
    "plt.ylabel('Count')\n",
    "plt.show()\n"
   ]
  },
  {
   "cell_type": "code",
   "execution_count": null,
   "id": "0682b6ac-c404-47a2-9f42-25dc67994a96",
   "metadata": {},
   "outputs": [],
   "source": [
    "# Define custom bin edges to combat a skewed distribution in the intervals - as the placings will always be integers and never floating points - so the intervals are misleading\n",
    "bin_edges = [1, 2, 3, 4, 5, 6, 7, 8, 9, 10, 11, 12, 13, 14, 15, 16, 17, 18, 19, 20]\n",
    "\n",
    "# Plot histogram with custom bin edges\n",
    "plt.hist(eurovision_semi_df['semi_place'], bins=bin_edges, edgecolor='black')\n",
    "plt.title('Distribution of Semi-Places')\n",
    "plt.xlabel('Semi-Places')\n",
    "plt.ylabel('Count')\n",
    "plt.show()\n",
    "# The two missing entries actually account for the small gap at 10 and 11 - the entries are Montenegro 2009 (11th) and Moldova 2010 (10th)"
   ]
  },
  {
   "cell_type": "markdown",
   "id": "fdfdabc2-b048-4596-81c2-4921c1c5fc48",
   "metadata": {},
   "source": [
    "#### I have made more accurate bin distribution in the two histograms, which shows that there is a consistant pattern, with only 2 entries missing due to missing data in the dataset. So even though the initial histograms looked suspicious they were quite misleading."
   ]
  },
  {
   "cell_type": "markdown",
   "id": "bc233bed-4644-4430-b432-7f69d41da758",
   "metadata": {},
   "source": [
    "### Back to exploration of data"
   ]
  },
  {
   "cell_type": "code",
   "execution_count": null,
   "id": "cb56ef97-7627-452d-b4b6-0b7527dbd564",
   "metadata": {},
   "outputs": [],
   "source": [
    "eurovision_semi_df.isnull().sum()"
   ]
  },
  {
   "cell_type": "code",
   "execution_count": null,
   "id": "b0cf5e5e-5932-46fb-ad8c-5d0299f21272",
   "metadata": {},
   "outputs": [],
   "source": [
    "eurovision_semi_df.describe()"
   ]
  },
  {
   "cell_type": "code",
   "execution_count": null,
   "id": "5241abd1-c86e-4cc6-9e91-7e6a2fbe8e8d",
   "metadata": {},
   "outputs": [],
   "source": [
    "de.vs.lmplot(eurovision_semi_df, 'semi_draw_position', 'semi_place')\n",
    "# the smaller the semi_place - the better"
   ]
  },
  {
   "cell_type": "code",
   "execution_count": null,
   "id": "1469c548-f6bc-4722-acc4-6c2a19e862e4",
   "metadata": {},
   "outputs": [],
   "source": [
    "de.vs.boxplot(eurovision_semi_df, 'semi_draw_position', 'semi_place')"
   ]
  },
  {
   "cell_type": "code",
   "execution_count": null,
   "id": "422f675b-e862-4ed7-9da1-fac88b024caa",
   "metadata": {},
   "outputs": [],
   "source": [
    "# reformat the Eurovision semifinal list to not include strings\n",
    "eurovision_semi_num = ['year', 'semi_final', 'semi_draw_position', 'semi_televote_points', 'semi_jury_points', 'semi_total_points', 'semi_place']\n",
    "eurovision_semi_df = eurovision_semi_df[eurovision_semi_num]"
   ]
  },
  {
   "cell_type": "code",
   "execution_count": null,
   "id": "7b602e8c-4ccf-42e7-b615-aecf16285be5",
   "metadata": {},
   "outputs": [],
   "source": [
    "de.vs.correlation_heatmap(eurovision_semi_df)"
   ]
  },
  {
   "cell_type": "markdown",
   "id": "16861435-a687-4bad-9473-68703e0fd714",
   "metadata": {},
   "source": [
    "### Separating the non numeral data from the data we want to train and test"
   ]
  },
  {
   "cell_type": "code",
   "execution_count": null,
   "id": "ee68d8fd-f53c-43fe-b3b2-f6f3da58130f",
   "metadata": {},
   "outputs": [],
   "source": [
    "# create a Python list of feature names\n",
    "feature_cols = ['semi_final', 'semi_draw_position']\n",
    "\n",
    "# use the list to select a subset of the original DataFrame\n",
    "X = eurovision_semi_df[feature_cols]\n",
    "\n",
    "# print the first 5 rows\n",
    "X.head()"
   ]
  },
  {
   "cell_type": "code",
   "execution_count": null,
   "id": "890df6c1-5059-45d4-8338-c91e3d2663c2",
   "metadata": {},
   "outputs": [],
   "source": [
    "# select a Series from the DataFrame for y\n",
    "y = eurovision_semi_df['semi_place']\n",
    "\n",
    "# print the first 5 values\n",
    "y.head()"
   ]
  },
  {
   "cell_type": "code",
   "execution_count": null,
   "id": "e3871441-7dbf-48bb-98c6-6840d9e7525e",
   "metadata": {},
   "outputs": [],
   "source": [
    "# check the type and shape of X\n",
    "print(type(X))\n",
    "print(X.shape)"
   ]
  },
  {
   "cell_type": "code",
   "execution_count": null,
   "id": "6f06d822-4217-4a13-a40d-32d49fc2a904",
   "metadata": {},
   "outputs": [],
   "source": [
    "# check the type and shape of y\n",
    "print(type(y))\n",
    "print(y.shape)"
   ]
  },
  {
   "cell_type": "code",
   "execution_count": null,
   "id": "4a0d21d1-378b-4463-a62f-bc1efb7c9a9c",
   "metadata": {},
   "outputs": [],
   "source": [
    "import sys\n",
    "import os\n",
    "\n",
    "# Use the current working directory instead of __file__\n",
    "current_directory = os.getcwd()\n",
    "\n",
    "# Add the path to the 'Modules' folder (adjust the path to reach the Modules folder)\n",
    "sys.path.append(os.path.join(current_directory, 'Modules'))\n",
    "\n",
    "# Now import the evalute function\n",
    "import machine_learning\n",
    "from machine_learning import *"
   ]
  },
  {
   "cell_type": "markdown",
   "id": "7c4b177d-d6c9-4a83-a5be-fc4c2e305baf",
   "metadata": {},
   "source": [
    "### Training and testing"
   ]
  },
  {
   "cell_type": "code",
   "execution_count": null,
   "id": "e9e26095-a713-4aa7-86fe-ed13ff9f44d6",
   "metadata": {},
   "outputs": [],
   "source": [
    "# training the data\n",
    "X_train, X_test, y_train, y_test = machine_learning.prepare_data(eurovision_semi_df, 'semi_place')"
   ]
  },
  {
   "cell_type": "code",
   "execution_count": null,
   "id": "67f34d3a-93e1-4781-9c1f-bd0da99a4d7a",
   "metadata": {},
   "outputs": [],
   "source": [
    "# using Pipeline to combat NaN values in the points columns - and replacing them with a \"mean\" aggregated result instead.\n",
    "model = Pipeline(steps=[\n",
    "    ('imputer', SimpleImputer(strategy='mean')),\n",
    "    ('regressor', LinearRegression())\n",
    "])"
   ]
  },
  {
   "cell_type": "code",
   "execution_count": null,
   "id": "62f86892-6893-422d-8df5-222145518348",
   "metadata": {},
   "outputs": [],
   "source": [
    "model.fit(X_train, y_train)"
   ]
  },
  {
   "cell_type": "code",
   "execution_count": null,
   "id": "0095f71f-94b2-4137-aae9-a8a2cefc7130",
   "metadata": {},
   "outputs": [],
   "source": [
    "reg = model.named_steps['regressor']"
   ]
  },
  {
   "cell_type": "code",
   "execution_count": null,
   "id": "ca77739b-0edf-4e8a-877b-edc6e5e55c84",
   "metadata": {},
   "outputs": [],
   "source": [
    "print(\"Intercept:\", reg.intercept_)\n",
    "print(\"Coefficients:\", reg.coef_)\n",
    "\n",
    "feature_names = X_train.columns\n",
    "coef_table = list(zip(feature_names, reg.coef_))\n",
    "for name, coef in coef_table:\n",
    "    print(f\"{name:30} {coef:>10.4f}\")\n"
   ]
  },
  {
   "cell_type": "markdown",
   "id": "ed36afb8-47b3-4342-99f2-6f25fc17f177",
   "metadata": {},
   "source": [
    "####\n",
    "Intercept: -536.99\n",
    " The intercept is the predicted semifinal place when all features are 0, which doesn't have much practical interpretation in this case. But in case it was - a negative value that big is reason for concern that the values aren't coherent with each other.\n",
    "\n",
    " Coefficients:\n",
    "1. 'Year' (0.2738):\n",
    "       A one-year increase is associated with a slight increase (0.27) in the predicted semifinal place. \n",
    "        This suggests that over the years, the rankings have slightly moved upwards on average - aka they have gotten worse.\n",
    "2. 'Semi Final' (0.1695): \n",
    "    Moving from one semifinal to another is associated with a small increase (0.17) in the predicted place (so semi 2 is worse than semi 1), \n",
    "    reflecting possible differences in competition between the two semifinals. Perhaps because when the number of semifinalists are odd, one of the semifinals will have one more entry than the other - making it less likely to qualify from that semifinal.\n",
    "3. 'Semi Draw Position' (-0.0332): \n",
    "    A later performance position (higher number) is associated with a slight improvement (lower `semi_place`) in ranking. \n",
    "    This supports the idea that later performances might be more memorable or have an advantage, potentially due to recency bias.\n",
    "4. 'Semi Televote Points' (-0.0048): \n",
    "    As televote points increase, the predicted semifinal place improves (i.e., a better placement). \n",
    "    This is intuitive since more televote points would likely lead to a better semifinal result.\n",
    "5. 'Semi Jury Points' (0.0093): \n",
    "    A higher number of jury points is associated with a worse semifinal place (higher `semi_place`), which is unexpected and suggests that higher jury points alone don't necessarily guarantee a better place in the semifinal. Perhaps the televote disagrees more strongly with jury favorites than juries do with televote favorites, leading to jury favorites performing slightly worse overall in the total result? As we also have to keep in mind the total result have in most of these recorded years (2009-2023) been 50%/50% jury/televote based - with the exception of 2023 and up - where the juries were removed from semifinals entirely, but still remaining at the same capacity in the final.\n",
    "6. 'Semi Total Points' (-0.0597): \n",
    "    An increase in total points (combination of jury and televote) is associated with a better semifinal position \n",
    "    (lower `semi_place`), which is consistent with the idea that more points lead to a higher placement.\n",
    "\n",
    "A negative coefficient generally represents a negative correlation with semi_place - which actually is good - because that means the value in question \"negatively\" impacts the place result (the number becomes lower) - as the lower the place number is - the better it is - as 1 is the best result here. So fx a high number of point should give you a low place number - like 3rd place, and vice versa a low number of points would give you a \"high\" placing like 15th - which would make it less likely to qualify.\n"
   ]
  },
  {
   "cell_type": "code",
   "execution_count": null,
   "id": "8cf6a198-c927-4acd-a7ab-731ee9b57772",
   "metadata": {},
   "outputs": [],
   "source": [
    "correlation_matrix = eurovision_semi_df[['semi_jury_points', 'semi_televote_points', 'semi_total_points']].corr()\n",
    "print(correlation_matrix)\n"
   ]
  },
  {
   "cell_type": "markdown",
   "id": "c83b1a4b-1095-4b73-b6d4-79834d346f79",
   "metadata": {},
   "source": [
    "##### Jury points seems to align slightly more with the final result than the televote points"
   ]
  },
  {
   "cell_type": "code",
   "execution_count": null,
   "id": "bd52af47-bbef-460a-98d5-d41a5851f5d4",
   "metadata": {
    "scrolled": true
   },
   "outputs": [],
   "source": [
    "machine_learning.evaluate_model(model, X_test, y_test)"
   ]
  },
  {
   "cell_type": "code",
   "execution_count": null,
   "id": "a725aed8-e8b7-4c5f-b18c-cf5417375f87",
   "metadata": {},
   "outputs": [],
   "source": [
    "#machine_learning.save_model(model, 'semifinalpredictions')"
   ]
  },
  {
   "cell_type": "code",
   "execution_count": null,
   "id": "e30df688-51fe-4108-80b4-dde49acf20ed",
   "metadata": {},
   "outputs": [],
   "source": []
  },
  {
   "cell_type": "code",
   "execution_count": null,
   "id": "c3ef74b2-d748-47ea-99f5-2ce9db440c81",
   "metadata": {},
   "outputs": [],
   "source": [
    "load_model('semifinalpredictions')"
   ]
  },
  {
   "cell_type": "code",
   "execution_count": null,
   "id": "c263dda7-6680-4b0f-b433-d3c96b5db81e",
   "metadata": {},
   "outputs": [],
   "source": [
    "\n",
    "from sklearn import metrics\n",
    "\n",
    "y_predicted = model.predict(X_test)\n",
    "\n",
    "print(\"Mean Absolute Error (MAE) = \", metrics.mean_absolute_error(y_test, y_predicted))\n",
    "\n",
    "print(\"Mean Squared Error (MSE) = \", metrics.mean_squared_error(y_test, y_predicted))\n",
    "\n",
    "\n",
    "# calculate RMSE using scikit-learn\n",
    "print(\"Root Mean Squared Error (RMSE) = \", np.sqrt(metrics.mean_squared_error(y_test, y_predicted)))\n",
    "\n",
    "\n",
    "# R-squared\n",
    "r2_score = metrics.r2_score(y_test, y_predicted)\n",
    "print (\"R2 (R-squared) score = \", r2_score)\n",
    "eV = round(sm.explained_variance_score(y_test, y_predicted), 4)\n",
    "print('Explained variance score = ',eV )\n",
    "\n",
    "# Visualise the regression results\n",
    "plt.title('Multiple Linear Regression')\n",
    "plt.scatter(y_test, y_predicted, color='magenta')\n",
    "plt.show()\n",
    "\n",
    "\n"
   ]
  },
  {
   "cell_type": "markdown",
   "id": "c7b6ad50-e9c5-4c53-980d-4d6a23900959",
   "metadata": {},
   "source": [
    "##### \n",
    "- MAE = the predicted semifinal places are off by approximately 2.2 places - so a 10th place here could be between 7.8 and 12.2 in the actual result - which is pretty close.\n",
    "- MSE = A value of 7.04 indicates that, on average, the squared difference between predicted and actual places is 7.04, which in particular highlights the scale of this regression's errors due to the usage of squaring.\n",
    "- RMSE = A value of 2.65 means that, on average, the predicted semifinal place is off by around 2.65 places - which is also still reasonable.\n",
    "- Both R2 and the variance score are 0.68 - which means the model has covered 68% of the total variance in the semifinal results."
   ]
  },
  {
   "cell_type": "code",
   "execution_count": null,
   "id": "9d85a2c6-b562-4306-8ac7-5b38737b1824",
   "metadata": {},
   "outputs": [],
   "source": [
    "residuals = y_test - y_predicted\n",
    "plt.scatter(y_predicted, residuals)\n",
    "plt.axhline(0, color='red', linestyle='--')\n",
    "plt.title(\"What is the deviation between predicted vs actual results? The line is the actual result\")\n",
    "plt.xlabel(\"Predicted\")\n",
    "plt.ylabel(\"Residuals\")\n",
    "plt.show()\n"
   ]
  },
  {
   "cell_type": "code",
   "execution_count": null,
   "id": "b6b58479-c9da-4d73-b685-e135ad6ef24c",
   "metadata": {},
   "outputs": [],
   "source": [
    "plt.scatter(y_test, y_predicted, color='magenta')\n",
    "plt.plot([min(y_test), max(y_test)], [min(y_test), max(y_test)], color='red', linestyle='--')  # Line of perfect prediction\n",
    "plt.xlabel(\"Actual Values\")\n",
    "plt.ylabel(\"Predicted Values\")\n",
    "plt.title(\"Actual vs Predicted\")\n",
    "plt.show()\n"
   ]
  },
  {
   "cell_type": "markdown",
   "id": "60c37b94-524e-4f78-9586-80ed7a95c120",
   "metadata": {},
   "source": [
    "#### Since Eurovision results have a tendency to be quite unpredictable, we don't expect these predictions to be entirely accurate. But an variance score of 68% is pretty alright for a song contest with a small number of possible positions - in theory up until 26 - but ususally less than 20. That means of course that there is 32% of the result variance in the semifinals we don't account for. This can generally just stem from the upredictability of Eurovision results - like country-specific tendencies (diaspora voting, political voting, bloc-voting etc.), or just disrepancies between the juries and televotes."
   ]
  },
  {
   "cell_type": "code",
   "execution_count": null,
   "id": "b42a0b72-a9ae-4ad5-b7bb-d717ed2fa9bc",
   "metadata": {},
   "outputs": [],
   "source": []
  }
 ],
 "metadata": {
  "kernelspec": {
   "display_name": "Python [conda env:base] *",
   "language": "python",
   "name": "conda-base-py"
  },
  "language_info": {
   "codemirror_mode": {
    "name": "ipython",
    "version": 3
   },
   "file_extension": ".py",
   "mimetype": "text/x-python",
   "name": "python",
   "nbconvert_exporter": "python",
   "pygments_lexer": "ipython3",
   "version": "3.12.7"
  }
 },
 "nbformat": 4,
 "nbformat_minor": 5
}
