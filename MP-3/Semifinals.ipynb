{
 "cells": [
  {
   "cell_type": "markdown",
   "id": "7955d0e3-ada5-466f-8d6a-6e72880f7d36",
   "metadata": {},
   "source": [
    "## MP-3 Project - Analysis of ESC Semifinals running order and results"
   ]
  },
  {
   "cell_type": "code",
   "execution_count": null,
   "id": "2b058da8-e70b-421f-95e8-ca63a01f273e",
   "metadata": {},
   "outputs": [],
   "source": [
    "import pandas as pd, numpy as np, seaborn as sbn, matplotlib.pyplot as plt\n",
    "\n",
    "from Modules import utils as utl\n",
    "from Modules import data_exploration as de\n",
    "from sklearn.model_selection import train_test_split\n",
    "from sklearn import linear_model\n",
    "from sklearn.linear_model import LinearRegression\n",
    "from sklearn.pipeline import Pipeline\n",
    "from sklearn.impute import SimpleImputer\n",
    "import sklearn.metrics as sm\n",
    "import pickle"
   ]
  },
  {
   "cell_type": "code",
   "execution_count": null,
   "id": "6ef7349c-d0fc-4e2f-80d7-0ede638aacde",
   "metadata": {},
   "outputs": [],
   "source": [
    "csv_file_path = 'Data/semifinalists_cleaned.csv'\n",
    "eurovision_semi_df = utl.load_csv(csv_file_path, skiprows=0, encoding='windows-1252')"
   ]
  },
  {
   "cell_type": "code",
   "execution_count": null,
   "id": "b81e484d-eef8-43d3-9837-18639db65a10",
   "metadata": {},
   "outputs": [],
   "source": [
    "eurovision_semi_df"
   ]
  },
  {
   "cell_type": "code",
   "execution_count": null,
   "id": "f277759a-0202-4e50-b709-08cc459a78be",
   "metadata": {},
   "outputs": [],
   "source": [
    "eurovision_semi_df.shape"
   ]
  },
  {
   "cell_type": "code",
   "execution_count": null,
   "id": "a4406c58-d4a9-4d7b-ba65-dd1f7ce89c50",
   "metadata": {},
   "outputs": [],
   "source": [
    "# visualise the features and the response using scatterplots\n",
    "sbn.pairplot(eurovision_semi_df, x_vars=['semi_draw_position'], y_vars='semi_place', height=5, aspect=0.8)\n",
    "plt.show()"
   ]
  },
  {
   "cell_type": "code",
   "execution_count": null,
   "id": "5b6a652d-71fd-460c-b6a4-dfddf34a06bf",
   "metadata": {},
   "outputs": [],
   "source": [
    "# histograms\n",
    "hist = eurovision_semi_df.hist()"
   ]
  },
  {
   "cell_type": "markdown",
   "id": "6874adc9-eef8-4137-a983-e60df4ab12d8",
   "metadata": {},
   "source": [
    "### Trying to figure out why there is a gap between 7.5 and 10 in semi_draw_position and semi_place"
   ]
  },
  {
   "cell_type": "code",
   "execution_count": null,
   "id": "fa5acc2d-e0c7-47b1-904f-bef38432a809",
   "metadata": {},
   "outputs": [],
   "source": [
    "eurovision_semi_df['semi_draw_position'].hist()"
   ]
  },
  {
   "cell_type": "code",
   "execution_count": null,
   "id": "4f9db941-26b5-4305-8f0c-254d237c73fe",
   "metadata": {},
   "outputs": [],
   "source": [
    "not_semi_places = ['semi_final', 'country', 'style', 'semi_televote_points', 'semi_jury_points', 'semi_total_points']"
   ]
  },
  {
   "cell_type": "code",
   "execution_count": null,
   "id": "6c05d3d6-8b2e-4a43-aa9c-78d744d71b98",
   "metadata": {},
   "outputs": [],
   "source": [
    "semi_places = eurovision_semi_df.drop(columns=not_semi_places)"
   ]
  },
  {
   "cell_type": "code",
   "execution_count": null,
   "id": "aab56549-7e28-423f-b673-8ee317e991c3",
   "metadata": {},
   "outputs": [],
   "source": [
    "semi_places.info()"
   ]
  },
  {
   "cell_type": "markdown",
   "id": "bc233bed-4644-4430-b432-7f69d41da758",
   "metadata": {},
   "source": [
    "### Back to exploration of data"
   ]
  },
  {
   "cell_type": "code",
   "execution_count": null,
   "id": "cb56ef97-7627-452d-b4b6-0b7527dbd564",
   "metadata": {},
   "outputs": [],
   "source": [
    "eurovision_semi_df.isnull().sum()"
   ]
  },
  {
   "cell_type": "code",
   "execution_count": null,
   "id": "b0cf5e5e-5932-46fb-ad8c-5d0299f21272",
   "metadata": {},
   "outputs": [],
   "source": [
    "eurovision_semi_df.describe()"
   ]
  },
  {
   "cell_type": "code",
   "execution_count": null,
   "id": "422f675b-e862-4ed7-9da1-fac88b024caa",
   "metadata": {},
   "outputs": [],
   "source": [
    "# reformat the Eurovision semifinal list to not include strings\n",
    "eurovision_semi_num = ['semi_final', 'semi_draw_position', 'semi_televote_points', 'semi_jury_points', 'semi_total_points', 'semi_place']\n",
    "eurovision_semi_df = eurovision_semi_df[eurovision_semi_num]"
   ]
  },
  {
   "cell_type": "code",
   "execution_count": null,
   "id": "ee68d8fd-f53c-43fe-b3b2-f6f3da58130f",
   "metadata": {},
   "outputs": [],
   "source": [
    "# create a Python list of feature names\n",
    "feature_cols = ['semi_final', 'semi_draw_position']\n",
    "\n",
    "# use the list to select a subset of the original DataFrame\n",
    "X = eurovision_semi_df[feature_cols]\n",
    "\n",
    "# print the first 5 rows\n",
    "X.head()"
   ]
  },
  {
   "cell_type": "code",
   "execution_count": null,
   "id": "890df6c1-5059-45d4-8338-c91e3d2663c2",
   "metadata": {},
   "outputs": [],
   "source": [
    "# select a Series from the DataFrame for y\n",
    "y = eurovision_semi_df['semi_place']\n",
    "\n",
    "# print the first 5 values\n",
    "y.head()"
   ]
  },
  {
   "cell_type": "code",
   "execution_count": null,
   "id": "e3871441-7dbf-48bb-98c6-6840d9e7525e",
   "metadata": {},
   "outputs": [],
   "source": [
    "# check the type and shape of X\n",
    "print(type(X))\n",
    "print(X.shape)"
   ]
  },
  {
   "cell_type": "code",
   "execution_count": null,
   "id": "6f06d822-4217-4a13-a40d-32d49fc2a904",
   "metadata": {},
   "outputs": [],
   "source": [
    "# check the type and shape of y\n",
    "print(type(y))\n",
    "print(y.shape)"
   ]
  },
  {
   "cell_type": "code",
   "execution_count": null,
   "id": "4a0d21d1-378b-4463-a62f-bc1efb7c9a9c",
   "metadata": {},
   "outputs": [],
   "source": [
    "import sys\n",
    "import os\n",
    "\n",
    "# Use the current working directory instead of __file__\n",
    "current_directory = os.getcwd()\n",
    "\n",
    "# Add the path to the 'Modules' folder (adjust the path to reach the Modules folder)\n",
    "sys.path.append(os.path.join(current_directory, 'Modules'))\n",
    "\n",
    "# Now import the evalute function\n",
    "import machine_learning\n",
    "from machine_learning import *"
   ]
  },
  {
   "cell_type": "code",
   "execution_count": null,
   "id": "e9e26095-a713-4aa7-86fe-ed13ff9f44d6",
   "metadata": {},
   "outputs": [],
   "source": [
    "X_train, X_test, y_train, y_test = machine_learning.prepare_data(eurovision_semi_df, 'semi_place')"
   ]
  },
  {
   "cell_type": "code",
   "execution_count": null,
   "id": "67f34d3a-93e1-4781-9c1f-bd0da99a4d7a",
   "metadata": {},
   "outputs": [],
   "source": [
    "model = Pipeline(steps=[\n",
    "    ('imputer', SimpleImputer(strategy='mean')),\n",
    "    ('regressor', LinearRegression())\n",
    "])"
   ]
  },
  {
   "cell_type": "code",
   "execution_count": null,
   "id": "62f86892-6893-422d-8df5-222145518348",
   "metadata": {},
   "outputs": [],
   "source": [
    "model.fit(X_train, y_train)"
   ]
  },
  {
   "cell_type": "code",
   "execution_count": null,
   "id": "0095f71f-94b2-4137-aae9-a8a2cefc7130",
   "metadata": {},
   "outputs": [],
   "source": [
    "reg = model.named_steps['regressor']"
   ]
  },
  {
   "cell_type": "code",
   "execution_count": null,
   "id": "ca77739b-0edf-4e8a-877b-edc6e5e55c84",
   "metadata": {},
   "outputs": [],
   "source": [
    "print(\"Intercept:\", reg.intercept_)\n",
    "print(\"Coefficients:\", reg.coef_)\n",
    "\n",
    "feature_names = X_train.columns\n",
    "coef_table = list(zip(feature_names, reg.coef_))\n",
    "for name, coef in coef_table:\n",
    "    print(f\"{name:30} {coef:>10.4f}\")\n"
   ]
  },
  {
   "cell_type": "code",
   "execution_count": null,
   "id": "408f8115-7dbc-4287-aa1c-84a087b312db",
   "metadata": {},
   "outputs": [],
   "source": []
  },
  {
   "cell_type": "code",
   "execution_count": null,
   "id": "bd52af47-bbef-460a-98d5-d41a5851f5d4",
   "metadata": {
    "scrolled": true
   },
   "outputs": [],
   "source": [
    "machine_learning.evaluate_model(model, X_test, y_test)"
   ]
  },
  {
   "cell_type": "code",
   "execution_count": null,
   "id": "a725aed8-e8b7-4c5f-b18c-cf5417375f87",
   "metadata": {},
   "outputs": [],
   "source": [
    "machine_learning.save_model(model, 'semifinalpredictions')"
   ]
  },
  {
   "cell_type": "code",
   "execution_count": null,
   "id": "c3ef74b2-d748-47ea-99f5-2ce9db440c81",
   "metadata": {},
   "outputs": [],
   "source": [
    "load_model('semifinalpredictions')"
   ]
  },
  {
   "cell_type": "code",
   "execution_count": null,
   "id": "c263dda7-6680-4b0f-b433-d3c96b5db81e",
   "metadata": {},
   "outputs": [],
   "source": []
  }
 ],
 "metadata": {
  "kernelspec": {
   "display_name": "Python [conda env:base] *",
   "language": "python",
   "name": "conda-base-py"
  },
  "language_info": {
   "codemirror_mode": {
    "name": "ipython",
    "version": 3
   },
   "file_extension": ".py",
   "mimetype": "text/x-python",
   "name": "python",
   "nbconvert_exporter": "python",
   "pygments_lexer": "ipython3",
   "version": "3.12.7"
  }
 },
 "nbformat": 4,
 "nbformat_minor": 5
}
