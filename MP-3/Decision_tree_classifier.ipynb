{
 "cells": [
  {
   "cell_type": "code",
   "execution_count": 1,
   "metadata": {},
   "outputs": [],
   "source": [
    "# Import necessary libraries\n",
    "import pandas as pd\n",
    "import numpy as np\n",
    "import matplotlib.pyplot as plt\n",
    "import seaborn as sns\n",
    "%matplotlib inline\n",
    "# Import sklearn libraries\n",
    "from sklearn.model_selection import train_test_split\n",
    "from sklearn.tree import DecisionTreeClassifier, plot_tree\n",
    "from sklearn.preprocessing import LabelEncoder, OneHotEncoder\n",
    "from sklearn.compose import ColumnTransformer\n",
    "from sklearn.pipeline import Pipeline\n",
    "from sklearn.impute import SimpleImputer\n",
    "from sklearn import metrics\n",
    "import joblib\n",
    "\n",
    "# Import modules from the project structure\n",
    "import sys\n",
    "import os\n",
    "\n",
    "# Add the path to the 'Modules' folder\n",
    "current_directory = os.getcwd()\n",
    "sys.path.append(os.path.join(current_directory, 'Modules'))\n",
    "\n",
    "# Import our custom modules\n",
    "from machine_learning.evaluate import evaluate_model"
   ]
  },
  {
   "cell_type": "code",
   "execution_count": 2,
   "metadata": {},
   "outputs": [
    {
     "data": {
      "text/html": [
       "<div>\n",
       "<style scoped>\n",
       "    .dataframe tbody tr th:only-of-type {\n",
       "        vertical-align: middle;\n",
       "    }\n",
       "\n",
       "    .dataframe tbody tr th {\n",
       "        vertical-align: top;\n",
       "    }\n",
       "\n",
       "    .dataframe thead th {\n",
       "        text-align: right;\n",
       "    }\n",
       "</style>\n",
       "<table border=\"1\" class=\"dataframe\">\n",
       "  <thead>\n",
       "    <tr style=\"text-align: right;\">\n",
       "      <th></th>\n",
       "      <th>year</th>\n",
       "      <th>final_draw_position</th>\n",
       "      <th>country</th>\n",
       "      <th>style</th>\n",
       "      <th>final_televote_points</th>\n",
       "      <th>final_jury_points</th>\n",
       "      <th>final_televote_votes</th>\n",
       "      <th>final_jury_votes</th>\n",
       "      <th>final_place</th>\n",
       "      <th>final_total_points</th>\n",
       "    </tr>\n",
       "  </thead>\n",
       "  <tbody>\n",
       "    <tr>\n",
       "      <th>0</th>\n",
       "      <td>2023</td>\n",
       "      <td>20</td>\n",
       "      <td>Norway</td>\n",
       "      <td>Pop</td>\n",
       "      <td>216.0</td>\n",
       "      <td>52.0</td>\n",
       "      <td>36.0</td>\n",
       "      <td>11.0</td>\n",
       "      <td>5.0</td>\n",
       "      <td>268.0</td>\n",
       "    </tr>\n",
       "    <tr>\n",
       "      <th>1</th>\n",
       "      <td>2023</td>\n",
       "      <td>5</td>\n",
       "      <td>Serbia</td>\n",
       "      <td>Pop</td>\n",
       "      <td>16.0</td>\n",
       "      <td>14.0</td>\n",
       "      <td>4.0</td>\n",
       "      <td>6.0</td>\n",
       "      <td>24.0</td>\n",
       "      <td>30.0</td>\n",
       "    </tr>\n",
       "    <tr>\n",
       "      <th>2</th>\n",
       "      <td>2023</td>\n",
       "      <td>2</td>\n",
       "      <td>Portugal</td>\n",
       "      <td>Pop</td>\n",
       "      <td>16.0</td>\n",
       "      <td>43.0</td>\n",
       "      <td>3.0</td>\n",
       "      <td>9.0</td>\n",
       "      <td>23.0</td>\n",
       "      <td>59.0</td>\n",
       "    </tr>\n",
       "    <tr>\n",
       "      <th>3</th>\n",
       "      <td>2023</td>\n",
       "      <td>25</td>\n",
       "      <td>Croatia</td>\n",
       "      <td>Pop</td>\n",
       "      <td>112.0</td>\n",
       "      <td>11.0</td>\n",
       "      <td>20.0</td>\n",
       "      <td>2.0</td>\n",
       "      <td>13.0</td>\n",
       "      <td>123.0</td>\n",
       "    </tr>\n",
       "    <tr>\n",
       "      <th>4</th>\n",
       "      <td>2023</td>\n",
       "      <td>3</td>\n",
       "      <td>Switzerland</td>\n",
       "      <td>Ballad</td>\n",
       "      <td>31.0</td>\n",
       "      <td>61.0</td>\n",
       "      <td>10.0</td>\n",
       "      <td>15.0</td>\n",
       "      <td>20.0</td>\n",
       "      <td>92.0</td>\n",
       "    </tr>\n",
       "  </tbody>\n",
       "</table>\n",
       "</div>"
      ],
      "text/plain": [
       "   year  final_draw_position      country   style  final_televote_points  \\\n",
       "0  2023                   20       Norway     Pop                  216.0   \n",
       "1  2023                    5       Serbia     Pop                   16.0   \n",
       "2  2023                    2     Portugal     Pop                   16.0   \n",
       "3  2023                   25      Croatia     Pop                  112.0   \n",
       "4  2023                    3  Switzerland  Ballad                   31.0   \n",
       "\n",
       "   final_jury_points  final_televote_votes  final_jury_votes  final_place  \\\n",
       "0               52.0                  36.0              11.0          5.0   \n",
       "1               14.0                   4.0               6.0         24.0   \n",
       "2               43.0                   3.0               9.0         23.0   \n",
       "3               11.0                  20.0               2.0         13.0   \n",
       "4               61.0                  10.0              15.0         20.0   \n",
       "\n",
       "   final_total_points  \n",
       "0               268.0  \n",
       "1                30.0  \n",
       "2                59.0  \n",
       "3               123.0  \n",
       "4                92.0  "
      ]
     },
     "execution_count": 2,
     "metadata": {},
     "output_type": "execute_result"
    }
   ],
   "source": [
    "# Load the dataset\n",
    "finalists_df = pd.read_csv('Data/finalists_cleaned.csv')\n",
    "\n",
    "# Display the first few rows\n",
    "finalists_df.head()"
   ]
  },
  {
   "cell_type": "code",
   "execution_count": 3,
   "metadata": {},
   "outputs": [
    {
     "data": {
      "text/plain": [
       "(358, 10)"
      ]
     },
     "execution_count": 3,
     "metadata": {},
     "output_type": "execute_result"
    }
   ],
   "source": [
    "# Check dataset shape\n",
    "finalists_df.shape"
   ]
  },
  {
   "cell_type": "code",
   "execution_count": 4,
   "metadata": {},
   "outputs": [
    {
     "name": "stdout",
     "output_type": "stream",
     "text": [
      "<class 'pandas.core.frame.DataFrame'>\n",
      "RangeIndex: 358 entries, 0 to 357\n",
      "Data columns (total 10 columns):\n",
      " #   Column                 Non-Null Count  Dtype  \n",
      "---  ------                 --------------  -----  \n",
      " 0   year                   358 non-null    int64  \n",
      " 1   final_draw_position    358 non-null    int64  \n",
      " 2   country                358 non-null    object \n",
      " 3   style                  358 non-null    object \n",
      " 4   final_televote_points  326 non-null    float64\n",
      " 5   final_jury_points      326 non-null    float64\n",
      " 6   final_televote_votes   230 non-null    float64\n",
      " 7   final_jury_votes       230 non-null    float64\n",
      " 8   final_place            358 non-null    float64\n",
      " 9   final_total_points     358 non-null    float64\n",
      "dtypes: float64(6), int64(2), object(2)\n",
      "memory usage: 28.1+ KB\n"
     ]
    }
   ],
   "source": [
    "# Check for missing values\n",
    "finalists_df.info()"
   ]
  },
  {
   "cell_type": "code",
   "execution_count": 5,
   "metadata": {},
   "outputs": [
    {
     "name": "stdout",
     "output_type": "stream",
     "text": [
      "Unique countries: 45\n",
      "Unique styles: 6\n",
      "Unique years: 14\n",
      "\n",
      "Style distribution:\n",
      "style\n",
      "Pop            163\n",
      "Ballad          98\n",
      "Dance           38\n",
      "Traditional     29\n",
      "Rock            27\n",
      "Opera            3\n",
      "Name: count, dtype: int64\n"
     ]
    }
   ],
   "source": [
    "# Check unique values in our categorical variables\n",
    "print(\"Unique countries:\", finalists_df['country'].nunique())\n",
    "print(\"Unique styles:\", finalists_df['style'].nunique())\n",
    "print(\"Unique years:\", finalists_df['year'].nunique())\n",
    "print(\"\\nStyle distribution:\")\n",
    "print(finalists_df['style'].value_counts())"
   ]
  },
  {
   "cell_type": "code",
   "execution_count": 6,
   "metadata": {},
   "outputs": [
    {
     "name": "stdout",
     "output_type": "stream",
     "text": [
      "Category distribution:\n",
      "final_place\n",
      "0    220\n",
      "1    138\n",
      "Name: count, dtype: int64\n",
      "\n",
      "Category meanings:\n",
      "0: Not Top 10 (places 11-26)\n",
      "1: Top 10 (places 1-10)\n"
     ]
    },
    {
     "data": {
      "text/html": [
       "<div>\n",
       "<style scoped>\n",
       "    .dataframe tbody tr th:only-of-type {\n",
       "        vertical-align: middle;\n",
       "    }\n",
       "\n",
       "    .dataframe tbody tr th {\n",
       "        vertical-align: top;\n",
       "    }\n",
       "\n",
       "    .dataframe thead th {\n",
       "        text-align: right;\n",
       "    }\n",
       "</style>\n",
       "<table border=\"1\" class=\"dataframe\">\n",
       "  <thead>\n",
       "    <tr style=\"text-align: right;\">\n",
       "      <th></th>\n",
       "      <th>style</th>\n",
       "      <th>year</th>\n",
       "      <th>country</th>\n",
       "      <th>final_draw_position</th>\n",
       "    </tr>\n",
       "  </thead>\n",
       "  <tbody>\n",
       "    <tr>\n",
       "      <th>0</th>\n",
       "      <td>Pop</td>\n",
       "      <td>2023</td>\n",
       "      <td>Norway</td>\n",
       "      <td>20</td>\n",
       "    </tr>\n",
       "    <tr>\n",
       "      <th>1</th>\n",
       "      <td>Pop</td>\n",
       "      <td>2023</td>\n",
       "      <td>Serbia</td>\n",
       "      <td>5</td>\n",
       "    </tr>\n",
       "    <tr>\n",
       "      <th>2</th>\n",
       "      <td>Pop</td>\n",
       "      <td>2023</td>\n",
       "      <td>Portugal</td>\n",
       "      <td>2</td>\n",
       "    </tr>\n",
       "    <tr>\n",
       "      <th>3</th>\n",
       "      <td>Pop</td>\n",
       "      <td>2023</td>\n",
       "      <td>Croatia</td>\n",
       "      <td>25</td>\n",
       "    </tr>\n",
       "    <tr>\n",
       "      <th>4</th>\n",
       "      <td>Ballad</td>\n",
       "      <td>2023</td>\n",
       "      <td>Switzerland</td>\n",
       "      <td>3</td>\n",
       "    </tr>\n",
       "  </tbody>\n",
       "</table>\n",
       "</div>"
      ],
      "text/plain": [
       "    style  year      country  final_draw_position\n",
       "0     Pop  2023       Norway                   20\n",
       "1     Pop  2023       Serbia                    5\n",
       "2     Pop  2023     Portugal                    2\n",
       "3     Pop  2023      Croatia                   25\n",
       "4  Ballad  2023  Switzerland                    3"
      ]
     },
     "execution_count": 6,
     "metadata": {},
     "output_type": "execute_result"
    }
   ],
   "source": [
    "# Define our features (independent) - style, year, country, draw_position\n",
    "# Select only the columns we want to use\n",
    "X = finalists_df[['style', 'year', 'country', 'final_draw_position']]\n",
    "\n",
    "# Define our target variable as binary: Top 10 or Not\n",
    "def categorize_placement(place):\n",
    "    if place <= 10:\n",
    "        return 1  # Top 10\n",
    "    else:\n",
    "        return 0  # Not Top 10\n",
    "\n",
    "# Create our binary target\n",
    "y = finalists_df['final_place'].apply(categorize_placement)\n",
    "\n",
    "# See the distribution of our new categories\n",
    "print(\"Category distribution:\")\n",
    "print(y.value_counts().sort_index())\n",
    "print(\"\\nCategory meanings:\")\n",
    "print(\"0: Not Top 10 (places 11-26)\")\n",
    "print(\"1: Top 10 (places 1-10)\")\n",
    "\n",
    "# Check our feature set\n",
    "X.head()"
   ]
  },
  {
   "cell_type": "code",
   "execution_count": 7,
   "metadata": {},
   "outputs": [
    {
     "name": "stdout",
     "output_type": "stream",
     "text": [
      "Training set shape: (257, 4)\n",
      "Testing set shape: (101, 4)\n"
     ]
    }
   ],
   "source": [
    "# Set up preprocessing for categorical features\n",
    "# We'll use one-hot encoding for style and country\n",
    "categorical_features = ['style', 'country']\n",
    "numerical_features = ['year', 'final_draw_position']\n",
    "\n",
    "# Create transformers for preprocessing\n",
    "categorical_transformer = Pipeline(steps=[\n",
    "    ('imputer', SimpleImputer(strategy='most_frequent')),\n",
    "    ('onehot', OneHotEncoder(handle_unknown='ignore'))\n",
    "])\n",
    "\n",
    "numerical_transformer = Pipeline(steps=[\n",
    "    ('imputer', SimpleImputer(strategy='median'))\n",
    "])\n",
    "\n",
    "# Combine preprocessing steps\n",
    "preprocessor = ColumnTransformer(\n",
    "    transformers=[\n",
    "        ('num', numerical_transformer, numerical_features),\n",
    "        ('cat', categorical_transformer, categorical_features)\n",
    "    ])\n",
    "\n",
    "# Split the data into training and testing sets (72% train, 28% test)\n",
    "X_train, X_test, y_train, y_test = train_test_split(X, y, test_size=0.28, random_state=42)\n",
    "\n",
    "# Display the shapes\n",
    "print(\"Training set shape:\", X_train.shape)\n",
    "print(\"Testing set shape:\", X_test.shape)"
   ]
  },
  {
   "cell_type": "code",
   "execution_count": 8,
   "metadata": {},
   "outputs": [
    {
     "name": "stdout",
     "output_type": "stream",
     "text": [
      "Model training complete!\n"
     ]
    }
   ],
   "source": [
    "# Create a pipeline with preprocessing and decision tree classifier\n",
    "decision_tree_pipeline = Pipeline(steps=[\n",
    "    ('preprocessor', preprocessor),\n",
    "    ('classifier', DecisionTreeClassifier(random_state=42))\n",
    "])\n",
    "\n",
    "# Train the model\n",
    "decision_tree_pipeline.fit(X_train, y_train)\n",
    "\n",
    "print(\"Model training complete!\")"
   ]
  },
  {
   "cell_type": "code",
   "execution_count": 9,
   "metadata": {},
   "outputs": [
    {
     "name": "stdout",
     "output_type": "stream",
     "text": [
      "Gradient Boosting model training complete!\n"
     ]
    }
   ],
   "source": [
    "# Create a Gradient Boosting pipeline\n",
    "from sklearn.ensemble import GradientBoostingClassifier\n",
    "\n",
    "# Create a pipeline with preprocessing and gradient boosting classifier\n",
    "gradient_boosting_pipeline = Pipeline(steps=[\n",
    "    ('preprocessor', preprocessor),\n",
    "    ('classifier', GradientBoostingClassifier(random_state=42, n_estimators=100, learning_rate=0.1))\n",
    "])\n",
    "\n",
    "# Train the model\n",
    "gradient_boosting_pipeline.fit(X_train, y_train)\n",
    "\n",
    "print(\"Gradient Boosting model training complete!\")"
   ]
  },
  {
   "cell_type": "code",
   "execution_count": 10,
   "metadata": {},
   "outputs": [
    {
     "name": "stdout",
     "output_type": "stream",
     "text": [
      "Model Evaluation Results:\n",
      "----------------------------\n",
      "Accuracy: 0.6634\n",
      "Precision: 0.6400\n",
      "Recall: 0.6634\n",
      "F1 Score: 0.6277\n",
      "\n",
      "Classification Report:\n",
      "              precision    recall  f1-score   support\n",
      "\n",
      "  Not Top 10       0.69      0.88      0.77        65\n",
      "      Top 10       0.56      0.28      0.37        36\n",
      "\n",
      "    accuracy                           0.66       101\n",
      "   macro avg       0.62      0.58      0.57       101\n",
      "weighted avg       0.64      0.66      0.63       101\n",
      "\n"
     ]
    }
   ],
   "source": [
    "# Make predictions on the test set\n",
    "y_pred = gradient_boosting_pipeline.predict(X_test)\n",
    "\n",
    "# Calculate metrics\n",
    "precision = metrics.precision_score(y_test, y_pred, average='weighted', zero_division=0)\n",
    "recall = metrics.recall_score(y_test, y_pred, average='weighted', zero_division=0)\n",
    "f1 = metrics.f1_score(y_test, y_pred, average='weighted', zero_division=0)\n",
    "accuracy = metrics.accuracy_score(y_test, y_pred)\n",
    "\n",
    "# Print metrics\n",
    "print(\"Model Evaluation Results:\")\n",
    "print(\"----------------------------\")\n",
    "print(f\"Accuracy: {accuracy:.4f}\")\n",
    "print(f\"Precision: {precision:.4f}\")\n",
    "print(f\"Recall: {recall:.4f}\")\n",
    "print(f\"F1 Score: {f1:.4f}\")\n",
    "\n",
    "# Print classification report\n",
    "print(\"\\nClassification Report:\")\n",
    "print(metrics.classification_report(y_test, y_pred, \n",
    "                                  target_names=['Not Top 10', 'Top 10']))"
   ]
  },
  {
   "cell_type": "code",
   "execution_count": 11,
   "metadata": {},
   "outputs": [
    {
     "data": {
      "image/png": "[encoded data removed]",
      "text/plain": [
       "<Figure size 1200x1000 with 2 Axes>"
      ]
     },
     "metadata": {},
     "output_type": "display_data"
    }
   ],
   "source": [
    "# Display confusion matrix\n",
    "cm = metrics.confusion_matrix(y_test, y_pred)\n",
    "\n",
    "# Since we might have many classes (places 1-26), a heatmap is better\n",
    "plt.figure(figsize=(12, 10))\n",
    "sns.heatmap(cm, annot=True, fmt='d', cmap='Blues')\n",
    "plt.title('Confusion Matrix')\n",
    "plt.ylabel('Actual Final Place')\n",
    "plt.xlabel('Predicted Final Place')\n",
    "plt.show()"
   ]
  },
  {
   "cell_type": "code",
   "execution_count": 12,
   "metadata": {},
   "outputs": [
    {
     "data": {
      "image/png": "[encoded data removed]",
      "text/plain": [
       "<Figure size 1000x600 with 1 Axes>"
      ]
     },
     "metadata": {},
     "output_type": "display_data"
    }
   ],
   "source": [
    "# Let's visualize predictions vs actual values\n",
    "plt.figure(figsize=(10, 6))\n",
    "plt.scatter(y_test, y_pred, alpha=0.6)\n",
    "plt.plot([y_test.min(), y_test.max()], [y_test.min(), y_test.max()], 'r--')\n",
    "plt.xlabel('Actual Final Place')\n",
    "plt.ylabel('Predicted Final Place')\n",
    "plt.title('Predicted vs Actual Final Place')\n",
    "plt.grid(True)\n",
    "plt.show()"
   ]
  },
  {
   "cell_type": "code",
   "execution_count": 13,
   "metadata": {},
   "outputs": [
    {
     "data": {
      "text/html": [
       "<div>\n",
       "<style scoped>\n",
       "    .dataframe tbody tr th:only-of-type {\n",
       "        vertical-align: middle;\n",
       "    }\n",
       "\n",
       "    .dataframe tbody tr th {\n",
       "        vertical-align: top;\n",
       "    }\n",
       "\n",
       "    .dataframe thead th {\n",
       "        text-align: right;\n",
       "    }\n",
       "</style>\n",
       "<table border=\"1\" class=\"dataframe\">\n",
       "  <thead>\n",
       "    <tr style=\"text-align: right;\">\n",
       "      <th></th>\n",
       "      <th>Feature</th>\n",
       "      <th>Importance</th>\n",
       "    </tr>\n",
       "  </thead>\n",
       "  <tbody>\n",
       "    <tr>\n",
       "      <th>0</th>\n",
       "      <td>year</td>\n",
       "      <td>0.218214</td>\n",
       "    </tr>\n",
       "    <tr>\n",
       "      <th>1</th>\n",
       "      <td>final_draw_position</td>\n",
       "      <td>0.181973</td>\n",
       "    </tr>\n",
       "    <tr>\n",
       "      <th>2</th>\n",
       "      <td>style_Ballad</td>\n",
       "      <td>0.058824</td>\n",
       "    </tr>\n",
       "    <tr>\n",
       "      <th>3</th>\n",
       "      <td>country_Azerbaijan</td>\n",
       "      <td>0.039708</td>\n",
       "    </tr>\n",
       "    <tr>\n",
       "      <th>4</th>\n",
       "      <td>country_Russia</td>\n",
       "      <td>0.036756</td>\n",
       "    </tr>\n",
       "    <tr>\n",
       "      <th>5</th>\n",
       "      <td>country_Armenia</td>\n",
       "      <td>0.027022</td>\n",
       "    </tr>\n",
       "    <tr>\n",
       "      <th>6</th>\n",
       "      <td>country_Italy</td>\n",
       "      <td>0.026988</td>\n",
       "    </tr>\n",
       "    <tr>\n",
       "      <th>7</th>\n",
       "      <td>country_France</td>\n",
       "      <td>0.025286</td>\n",
       "    </tr>\n",
       "    <tr>\n",
       "      <th>8</th>\n",
       "      <td>country_Sweden</td>\n",
       "      <td>0.025195</td>\n",
       "    </tr>\n",
       "    <tr>\n",
       "      <th>9</th>\n",
       "      <td>country_Australia</td>\n",
       "      <td>0.022707</td>\n",
       "    </tr>\n",
       "    <tr>\n",
       "      <th>10</th>\n",
       "      <td>country_Estonia</td>\n",
       "      <td>0.022431</td>\n",
       "    </tr>\n",
       "    <tr>\n",
       "      <th>11</th>\n",
       "      <td>country_Norway</td>\n",
       "      <td>0.021751</td>\n",
       "    </tr>\n",
       "    <tr>\n",
       "      <th>12</th>\n",
       "      <td>country_Israel</td>\n",
       "      <td>0.019185</td>\n",
       "    </tr>\n",
       "    <tr>\n",
       "      <th>13</th>\n",
       "      <td>style_Dance</td>\n",
       "      <td>0.018009</td>\n",
       "    </tr>\n",
       "    <tr>\n",
       "      <th>14</th>\n",
       "      <td>country_Greece</td>\n",
       "      <td>0.016499</td>\n",
       "    </tr>\n",
       "    <tr>\n",
       "      <th>15</th>\n",
       "      <td>country_Serbia</td>\n",
       "      <td>0.015352</td>\n",
       "    </tr>\n",
       "    <tr>\n",
       "      <th>16</th>\n",
       "      <td>country_Belgium</td>\n",
       "      <td>0.014658</td>\n",
       "    </tr>\n",
       "    <tr>\n",
       "      <th>17</th>\n",
       "      <td>country_Albania</td>\n",
       "      <td>0.014224</td>\n",
       "    </tr>\n",
       "    <tr>\n",
       "      <th>18</th>\n",
       "      <td>country_Spain</td>\n",
       "      <td>0.014029</td>\n",
       "    </tr>\n",
       "    <tr>\n",
       "      <th>19</th>\n",
       "      <td>country_Denmark</td>\n",
       "      <td>0.013940</td>\n",
       "    </tr>\n",
       "  </tbody>\n",
       "</table>\n",
       "</div>"
      ],
      "text/plain": [
       "                Feature  Importance\n",
       "0                  year    0.218214\n",
       "1   final_draw_position    0.181973\n",
       "2          style_Ballad    0.058824\n",
       "3    country_Azerbaijan    0.039708\n",
       "4        country_Russia    0.036756\n",
       "5       country_Armenia    0.027022\n",
       "6         country_Italy    0.026988\n",
       "7        country_France    0.025286\n",
       "8        country_Sweden    0.025195\n",
       "9     country_Australia    0.022707\n",
       "10      country_Estonia    0.022431\n",
       "11       country_Norway    0.021751\n",
       "12       country_Israel    0.019185\n",
       "13          style_Dance    0.018009\n",
       "14       country_Greece    0.016499\n",
       "15       country_Serbia    0.015352\n",
       "16      country_Belgium    0.014658\n",
       "17      country_Albania    0.014224\n",
       "18        country_Spain    0.014029\n",
       "19      country_Denmark    0.013940"
      ]
     },
     "execution_count": 13,
     "metadata": {},
     "output_type": "execute_result"
    }
   ],
   "source": [
    "# Extract the trained decision tree\n",
    "dt_classifier = decision_tree_pipeline.named_steps['classifier']\n",
    "\n",
    "# Get feature names after preprocessing\n",
    "preprocessor = decision_tree_pipeline.named_steps['preprocessor']\n",
    "cat_cols = preprocessor.transformers_[1][1].named_steps['onehot'].get_feature_names_out(categorical_features)\n",
    "feature_names = numerical_features + list(cat_cols)\n",
    "\n",
    "# Get feature importances\n",
    "feature_importances = dt_classifier.feature_importances_\n",
    "\n",
    "# Create a DataFrame for easy viewing\n",
    "importance_df = pd.DataFrame({\n",
    "    'Feature': feature_names,\n",
    "    'Importance': feature_importances\n",
    "})\n",
    "\n",
    "# Sort by importance\n",
    "importance_df = importance_df.sort_values('Importance', ascending=False).reset_index(drop=True)\n",
    "\n",
    "# Display top 20 features\n",
    "importance_df.head(20)"
   ]
  },
  {
   "cell_type": "code",
   "execution_count": 14,
   "metadata": {},
   "outputs": [
    {
     "data": {
      "image/png": "[encoded data removed]",
      "text/plain": [
       "<Figure size 1200x800 with 1 Axes>"
      ]
     },
     "metadata": {},
     "output_type": "display_data"
    }
   ],
   "source": [
    "# Visualize feature importance\n",
    "plt.figure(figsize=(12, 8))\n",
    "sns.barplot(x='Importance', y='Feature', data=importance_df.head(20))\n",
    "plt.title('Top 20 Feature Importances')\n",
    "plt.tight_layout()\n",
    "plt.show()"
   ]
  },
  {
   "cell_type": "code",
   "execution_count": 15,
   "metadata": {},
   "outputs": [
    {
     "name": "stdout",
     "output_type": "stream",
     "text": [
      "Model saved to: Models\\gradient_boosting_eurovision.pkl\n"
     ]
    }
   ],
   "source": [
    "# Save the model\n",
    "model_filename = 'gradient_boosting_eurovision'\n",
    "model_path = os.path.join('Models', model_filename + '.pkl')\n",
    "\n",
    "# Make sure the Models directory exists\n",
    "os.makedirs('Models', exist_ok=True)\n",
    "\n",
    "# Save the model\n",
    "joblib.dump(gradient_boosting_pipeline, model_path)\n",
    "print(f\"Model saved to: {model_path}\")"
   ]
  },
  {
   "cell_type": "code",
   "execution_count": 16,
   "metadata": {},
   "outputs": [
    {
     "name": "stdout",
     "output_type": "stream",
     "text": [
      "Model loaded successfully!\n"
     ]
    }
   ],
   "source": [
    "# Example of loading the model with an absolute path\n",
    "def load_model():\n",
    "    # Use the current directory to build an absolute path\n",
    "    import os\n",
    "    current_dir = os.getcwd()\n",
    "    model_path = os.path.join(current_dir, 'Models', 'gradient_boosting_eurovision.pkl')\n",
    "    return joblib.load(model_path)\n",
    "\n",
    "# Test loading the model\n",
    "model = load_model()\n",
    "print(\"Model loaded successfully!\")"
   ]
  },
  {
   "cell_type": "code",
   "execution_count": 17,
   "metadata": {},
   "outputs": [
    {
     "name": "stdout",
     "output_type": "stream",
     "text": [
      "Predicted placement for Sweden in 2024: Top 10 (places 1-10)\n",
      "\n",
      "Probabilities for each category:\n",
      "Not Top 10 (places 11-26): 0.24\n",
      "Top 10 (places 1-10): 0.76\n"
     ]
    }
   ],
   "source": [
    "# Create some sample data for prediction\n",
    "sample_data = pd.DataFrame({\n",
    "    'style': ['Pop'],\n",
    "    'year': [2024],\n",
    "    'country': ['Sweden'],\n",
    "    'final_draw_position': [10]\n",
    "})\n",
    "\n",
    "# Make a prediction\n",
    "prediction = model.predict(sample_data)[0]\n",
    "prediction_proba = model.predict_proba(sample_data)[0]\n",
    "\n",
    "# Map the prediction back to a category\n",
    "category_map = {\n",
    "    0: \"Not Top 10 (places 11-26)\",\n",
    "    1: \"Top 10 (places 1-10)\"\n",
    "}\n",
    "\n",
    "print(f\"Predicted placement for {sample_data['country'][0]} in {sample_data['year'][0]}: {category_map[prediction]}\")\n",
    "print(\"\\nProbabilities for each category:\")\n",
    "for i, prob in enumerate(prediction_proba):\n",
    "    print(f\"{category_map[i]}: {prob:.2f}\")"
   ]
  },
  {
   "cell_type": "code",
   "execution_count": null,
   "metadata": {},
   "outputs": [],
   "source": []
  }
 ],
 "metadata": {
  "kernelspec": {
   "display_name": "Python [conda env:base] *",
   "language": "python",
   "name": "conda-base-py"
  },
  "language_info": {
   "codemirror_mode": {
    "name": "ipython",
    "version": 3
   },
   "file_extension": ".py",
   "mimetype": "text/x-python",
   "name": "python",
   "nbconvert_exporter": "python",
   "pygments_lexer": "ipython3",
   "version": "3.12.7"
  }
 },
 "nbformat": 4,
 "nbformat_minor": 4
}
