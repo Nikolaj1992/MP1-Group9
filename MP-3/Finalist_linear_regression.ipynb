{
 "cells": [
  {
   "cell_type": "code",
   "execution_count": null,
   "id": "179d7e69-9ffc-44c3-8c8b-d5d75cba2086",
   "metadata": {},
   "outputs": [],
   "source": [
    "# import\n",
    "import pandas as pd\n",
    "import numpy as np\n",
    "\n",
    "import seaborn as sns\n",
    "import matplotlib.pyplot as plt\n",
    "%matplotlib inline\n",
    "from sklearn.pipeline import Pipeline\n",
    "from sklearn.impute import SimpleImputer\n",
    "from sklearn.model_selection import train_test_split\n",
    "\n",
    "from sklearn.linear_model import LinearRegression\n",
    "import sklearn.metrics as sm\n",
    "from sklearn.metrics import r2_score"
   ]
  },
  {
   "cell_type": "code",
   "execution_count": null,
   "id": "67b85810-3d16-4196-8399-a4d98e816152",
   "metadata": {},
   "outputs": [],
   "source": [
    "finalists_clean_df = pd.read_csv('Data/finalists_cleaned.csv')"
   ]
  },
  {
   "cell_type": "code",
   "execution_count": null,
   "id": "b5d7f203-0fee-4d88-8e7b-e2a281e3e3d4",
   "metadata": {},
   "outputs": [],
   "source": [
    "# Display the first few rows to verify\n",
    "print(finalists_clean_df.head())"
   ]
  },
  {
   "cell_type": "code",
   "execution_count": null,
   "id": "33751823-3827-4c66-a7a9-f7ca946a1edf",
   "metadata": {},
   "outputs": [],
   "source": [
    "finalists_clean_df.shape"
   ]
  },
  {
   "cell_type": "code",
   "execution_count": null,
   "id": "8e9851ca-8b97-4241-9481-83de3de32fc3",
   "metadata": {},
   "outputs": [],
   "source": [
    "finalists_clean_df.info()"
   ]
  },
  {
   "cell_type": "code",
   "execution_count": null,
   "id": "30959df8-4480-439c-b66e-a602c753fa9c",
   "metadata": {},
   "outputs": [],
   "source": [
    "y = finalists_clean_df['final_place']\n",
    "\n",
    "# Features: drop target and categorical variables\n",
    "X = finalists_clean_df.drop(columns=['final_place', 'country', 'style'])\n",
    "\n",
    "# Define numeric feature names (all remaining)\n",
    "numeric_features = X.columns.tolist()\n"
   ]
  },
  {
   "cell_type": "code",
   "execution_count": null,
   "id": "9c285ec3-1ccb-4832-b221-4ef4f1ea1d04",
   "metadata": {},
   "outputs": [],
   "source": [
    "y.head()"
   ]
  },
  {
   "cell_type": "code",
   "execution_count": null,
   "id": "2d6431a1-d6f3-4895-bbed-3f389b36e3d2",
   "metadata": {},
   "outputs": [],
   "source": [
    "# Split the dataset (74/26)\n",
    "X_train, X_test, y_train, y_test = train_test_split(X, y, test_size=0.26, random_state=42)\n"
   ]
  },
  {
   "cell_type": "code",
   "execution_count": null,
   "id": "08b7dcae-e024-454a-ad70-b72284263cda",
   "metadata": {},
   "outputs": [],
   "source": [
    "print(X_train.shape)\n",
    "print(y_train.shape)\n",
    "print(X_test.shape)\n",
    "print(y_test.shape)"
   ]
  },
  {
   "cell_type": "code",
   "execution_count": null,
   "id": "03118850-15c9-4ec8-b8f3-d4e3ee987535",
   "metadata": {},
   "outputs": [],
   "source": []
  },
  {
   "cell_type": "code",
   "execution_count": null,
   "id": "ad48e69a-f332-461e-a575-f5a578f01cff",
   "metadata": {
    "scrolled": true
   },
   "outputs": [],
   "source": [
    "model = Pipeline(steps=[\n",
    "    ('imputer', SimpleImputer(fill_value=None)),\n",
    "    ('regressor', LinearRegression())\n",
    "])"
   ]
  },
  {
   "cell_type": "code",
   "execution_count": null,
   "id": "0e3c5a70-fbbc-4ba7-8a79-36a2ee6a73b1",
   "metadata": {},
   "outputs": [],
   "source": [
    "# Fit and predict\n",
    "model.fit(X_train, y_train)\n"
   ]
  },
  {
   "cell_type": "code",
   "execution_count": null,
   "id": "fb2d17f5-d5a2-42fc-890d-39f7dd137183",
   "metadata": {},
   "outputs": [],
   "source": [
    "reg = model.named_steps['regressor']\n"
   ]
  },
  {
   "cell_type": "code",
   "execution_count": null,
   "id": "fe7aa701-c5b5-428d-8d42-c51a8269a11b",
   "metadata": {},
   "outputs": [],
   "source": [
    "print(\"Intercept:\", reg.intercept_)\n",
    "print(\"Coefficients:\", reg.coef_)\n",
    "\n",
    "feature_names = X_train.columns\n",
    "coef_table = list(zip(feature_names, reg.coef_))\n",
    "for name, coef in coef_table:\n",
    "    print(f\"{name:30} {coef:>10.4f}\")\n"
   ]
  },
  {
   "cell_type": "code",
   "execution_count": null,
   "id": "ef4bbe94-b8ba-42e5-b1d8-d9226f659c81",
   "metadata": {},
   "outputs": [],
   "source": [
    "y_pred = model.predict(X_test)"
   ]
  },
  {
   "cell_type": "code",
   "execution_count": null,
   "id": "aa246823-3c9f-4133-9d5c-3f291e408dab",
   "metadata": {},
   "outputs": [],
   "source": [
    "print(\"R² Score:\", r2_score(y_test, y_pred))"
   ]
  },
  {
   "cell_type": "code",
   "execution_count": null,
   "id": "7c6d8405-0f4d-431a-9c16-c3545be6c83f",
   "metadata": {},
   "outputs": [],
   "source": [
    "y_pred"
   ]
  },
  {
   "cell_type": "code",
   "execution_count": null,
   "id": "f2b7a0a2-14fe-46f5-b267-b84445c0c668",
   "metadata": {},
   "outputs": [],
   "source": [
    "plt.figure(figsize=(8, 6))\n",
    "plt.scatter(y_test, y_pred, color='blue', alpha=0.6)\n",
    "plt.plot([y_test.min(), y_test.max()], [y_test.min(), y_test.max()], 'r--')  # Diagonal\n",
    "plt.xlabel('Actual Final Place')\n",
    "plt.ylabel('Predicted Final Place')\n",
    "plt.title('Predicted vs Actual Final Place')\n",
    "plt.grid(True)\n",
    "plt.show()"
   ]
  },
  {
   "cell_type": "code",
   "execution_count": null,
   "id": "c8c7c9d0-295d-4be9-90e0-e2666e77ebdd",
   "metadata": {},
   "outputs": [],
   "source": [
    "y_test.iloc[0]"
   ]
  },
  {
   "cell_type": "code",
   "execution_count": null,
   "id": "401164da-fee1-407b-9b08-e676b4cd1fb2",
   "metadata": {},
   "outputs": [],
   "source": [
    "y_pred[0]"
   ]
  },
  {
   "cell_type": "code",
   "execution_count": null,
   "id": "edd99573-d625-4c16-b925-dafbcaf70c6a",
   "metadata": {},
   "outputs": [],
   "source": []
  }
 ],
 "metadata": {
  "kernelspec": {
   "display_name": "Python [conda env:base] *",
   "language": "python",
   "name": "conda-base-py"
  },
  "language_info": {
   "codemirror_mode": {
    "name": "ipython",
    "version": 3
   },
   "file_extension": ".py",
   "mimetype": "text/x-python",
   "name": "python",
   "nbconvert_exporter": "python",
   "pygments_lexer": "ipython3",
   "version": "3.12.7"
  }
 },
 "nbformat": 4,
 "nbformat_minor": 5
}
