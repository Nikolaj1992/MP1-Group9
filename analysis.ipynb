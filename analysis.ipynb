{
 "cells": [
  {
   "cell_type": "code",
   "execution_count": 8,
   "id": "b1efbfd7-21ec-44b7-8850-21c58531ca2a",
   "metadata": {},
   "outputs": [
    {
     "name": "stdout",
     "output_type": "stream",
     "text": [
      "Requirement already satisfied: pandas in c:\\users\\toxic\\anaconda3\\lib\\site-packages (2.2.2)\n",
      "Requirement already satisfied: openpyxl in c:\\users\\toxic\\anaconda3\\lib\\site-packages (3.1.5)\n",
      "Collecting xlrd\n",
      "  Downloading xlrd-2.0.1-py2.py3-none-any.whl.metadata (3.4 kB)\n",
      "Requirement already satisfied: numpy>=1.26.0 in c:\\users\\toxic\\anaconda3\\lib\\site-packages (from pandas) (1.26.4)\n",
      "Requirement already satisfied: python-dateutil>=2.8.2 in c:\\users\\toxic\\anaconda3\\lib\\site-packages (from pandas) (2.9.0.post0)\n",
      "Requirement already satisfied: pytz>=2020.1 in c:\\users\\toxic\\anaconda3\\lib\\site-packages (from pandas) (2024.1)\n",
      "Requirement already satisfied: tzdata>=2022.7 in c:\\users\\toxic\\anaconda3\\lib\\site-packages (from pandas) (2023.3)\n",
      "Requirement already satisfied: et-xmlfile in c:\\users\\toxic\\anaconda3\\lib\\site-packages (from openpyxl) (1.1.0)\n",
      "Requirement already satisfied: six>=1.5 in c:\\users\\toxic\\anaconda3\\lib\\site-packages (from python-dateutil>=2.8.2->pandas) (1.16.0)\n",
      "Downloading xlrd-2.0.1-py2.py3-none-any.whl (96 kB)\n",
      "Installing collected packages: xlrd\n",
      "Successfully installed xlrd-2.0.1\n"
     ]
    }
   ],
   "source": [
    "!pip install pandas openpyxl xlrd"
   ]
  },
  {
   "cell_type": "code",
   "execution_count": 10,
   "id": "a228d5dc-6819-415c-aa47-ceb6518f2e5c",
   "metadata": {},
   "outputs": [
    {
     "name": "stdout",
     "output_type": "stream",
     "text": [
      "Information om datasættet:\n",
      "Antal rækker: 179\n",
      "Antal kolonner: 16\n",
      "\n",
      "Kolonner i datasættet:\n",
      "['Country', 'Year', 'Rank', 'Total', 'S1: Demographic Pressures', 'S2: Refugees and IDPs', 'C3: Group Grievance', 'E3: Human Flight and Brain Drain', 'E2: Economic Inequality', 'E1: Economy', 'P1: State Legitimacy', 'P2: Public Services', 'P3: Human Rights', 'C1: Security Apparatus', 'C2: Factionalized Elites', 'X1: External Intervention']\n",
      "\n",
      "De første 5 rækker af data:\n",
      "                     Country  Year Rank  Total  S1: Demographic Pressures  \\\n",
      "0                    Somalia  2023  1st  111.9                       10.0   \n",
      "1                      Yemen  2023  2nd  108.9                        9.6   \n",
      "2                South Sudan  2023  3rd  108.5                        9.7   \n",
      "3  Congo Democratic Republic  2023  4th  107.2                        9.7   \n",
      "4                      Syria  2023  5th  107.1                        7.4   \n",
      "\n",
      "   S2: Refugees and IDPs  C3: Group Grievance  \\\n",
      "0                    9.0                  8.7   \n",
      "1                    9.6                  8.8   \n",
      "2                   10.0                  8.6   \n",
      "3                    9.8                  9.4   \n",
      "4                    9.1                  9.1   \n",
      "\n",
      "   E3: Human Flight and Brain Drain  E2: Economic Inequality  E1: Economy  \\\n",
      "0                               8.6                      9.1          9.5   \n",
      "1                               6.4                      7.9          9.9   \n",
      "2                               6.5                      8.6          8.6   \n",
      "3                               6.4                      8.4          8.1   \n",
      "4                               8.0                      6.5          9.6   \n",
      "\n",
      "   P1: State Legitimacy  P2: Public Services  P3: Human Rights  \\\n",
      "0                   9.6                  9.8               9.0   \n",
      "1                   9.8                  9.6               9.6   \n",
      "2                   9.8                  9.7               8.7   \n",
      "3                   9.3                  9.3               9.3   \n",
      "4                  10.0                  9.0               9.1   \n",
      "\n",
      "   C1: Security Apparatus  C2: Factionalized Elites  X1: External Intervention  \n",
      "0                     9.5                      10.0                        9.1  \n",
      "1                     8.6                       9.9                        9.2  \n",
      "2                     9.9                       9.2                        9.2  \n",
      "3                     8.8                       9.6                        9.1  \n",
      "4                     9.4                       9.9                       10.0  \n"
     ]
    }
   ],
   "source": [
    "%run \"Code/functions.ipynb\"\n",
    "\n",
    "# Brug den fulde sti til filen\n",
    "import os\n",
    "df = load_excel('Data/FSI-2023-DOWNLOAD (1).xls')\n",
    "\n",
    "print(\"Information om datasættet:\")\n",
    "print(f\"Antal rækker: {len(df)}\")\n",
    "print(f\"Antal kolonner: {len(df.columns)}\")\n",
    "print(\"\\nKolonner i datasættet:\")\n",
    "print(df.columns.tolist())\n",
    "print(\"\\nDe første 5 rækker af data:\")\n",
    "print(df.head())"
   ]
  },
  {
   "cell_type": "code",
   "execution_count": null,
   "id": "be024de5-70f5-4fa5-8ffa-4f2702368d86",
   "metadata": {},
   "outputs": [],
   "source": []
  }
 ],
 "metadata": {
  "kernelspec": {
   "display_name": "Python [conda env:base] *",
   "language": "python",
   "name": "conda-base-py"
  },
  "language_info": {
   "codemirror_mode": {
    "name": "ipython",
    "version": 3
   },
   "file_extension": ".py",
   "mimetype": "text/x-python",
   "name": "python",
   "nbconvert_exporter": "python",
   "pygments_lexer": "ipython3",
   "version": "3.12.7"
  }
 },
 "nbformat": 4,
 "nbformat_minor": 5
}
