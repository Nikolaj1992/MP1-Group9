{
 "cells": [
  {
   "cell_type": "code",
   "execution_count": 1,
   "id": "b1efbfd7-21ec-44b7-8850-21c58531ca2a",
   "metadata": {},
   "outputs": [
    {
     "name": "stdout",
     "output_type": "stream",
     "text": [
      "Requirement already satisfied: pandas in c:\\users\\toxic\\anaconda3\\lib\\site-packages (2.2.2)\n",
      "Requirement already satisfied: openpyxl in c:\\users\\toxic\\anaconda3\\lib\\site-packages (3.1.5)\n",
      "Requirement already satisfied: xlrd in c:\\users\\toxic\\anaconda3\\lib\\site-packages (2.0.1)\n",
      "Requirement already satisfied: numpy>=1.26.0 in c:\\users\\toxic\\anaconda3\\lib\\site-packages (from pandas) (1.26.4)\n",
      "Requirement already satisfied: python-dateutil>=2.8.2 in c:\\users\\toxic\\anaconda3\\lib\\site-packages (from pandas) (2.9.0.post0)\n",
      "Requirement already satisfied: pytz>=2020.1 in c:\\users\\toxic\\anaconda3\\lib\\site-packages (from pandas) (2024.1)\n",
      "Requirement already satisfied: tzdata>=2022.7 in c:\\users\\toxic\\anaconda3\\lib\\site-packages (from pandas) (2023.3)\n",
      "Requirement already satisfied: et-xmlfile in c:\\users\\toxic\\anaconda3\\lib\\site-packages (from openpyxl) (1.1.0)\n",
      "Requirement already satisfied: six>=1.5 in c:\\users\\toxic\\anaconda3\\lib\\site-packages (from python-dateutil>=2.8.2->pandas) (1.16.0)\n"
     ]
    }
   ],
   "source": [
    "!pip install pandas openpyxl xlrd"
   ]
  },
  {
   "cell_type": "code",
   "execution_count": 1,
   "id": "a228d5dc-6819-415c-aa47-ceb6518f2e5c",
   "metadata": {},
   "outputs": [
    {
     "ename": "NameError",
     "evalue": "name 'load_excel' is not defined",
     "output_type": "error",
     "traceback": [
      "\u001b[1;31m---------------------------------------------------------------------------\u001b[0m",
      "\u001b[1;31mNameError\u001b[0m                                 Traceback (most recent call last)",
      "Cell \u001b[1;32mIn[1], line 7\u001b[0m\n\u001b[0;32m      4\u001b[0m \u001b[38;5;28;01mimport\u001b[39;00m \u001b[38;5;21;01mos\u001b[39;00m\n\u001b[0;32m      6\u001b[0m \u001b[38;5;66;03m# Indlæs Excel filen\u001b[39;00m\n\u001b[1;32m----> 7\u001b[0m df \u001b[38;5;241m=\u001b[39m load_excel(\u001b[38;5;124m'\u001b[39m\u001b[38;5;124mData/FSI-2023-DOWNLOAD (1).xls\u001b[39m\u001b[38;5;124m'\u001b[39m)\n\u001b[0;32m      9\u001b[0m \u001b[38;5;28mprint\u001b[39m(\u001b[38;5;124m\"\u001b[39m\u001b[38;5;124mInformation om datasættet:\u001b[39m\u001b[38;5;124m\"\u001b[39m)\n\u001b[0;32m     10\u001b[0m \u001b[38;5;28mprint\u001b[39m(\u001b[38;5;124mf\u001b[39m\u001b[38;5;124m\"\u001b[39m\u001b[38;5;124mAntal rækker: \u001b[39m\u001b[38;5;132;01m{\u001b[39;00m\u001b[38;5;28mlen\u001b[39m(df)\u001b[38;5;132;01m}\u001b[39;00m\u001b[38;5;124m\"\u001b[39m)\n",
      "\u001b[1;31mNameError\u001b[0m: name 'load_excel' is not defined"
     ]
    }
   ],
   "source": [
    "%run \"Code/functions.ipynb\"\n",
    "\n",
    "# Load Excel file\n",
    "df = load_excel('Data/FSI-2023-DOWNLOAD (1).xls')\n",
    "\n",
    "print(\"Information about the dataset:\")\n",
    "print(f\"Number of rows: {len(df)}\")\n",
    "print(f\"Number of columns: {len(df.columns)}\")\n",
    "print(\"\\nColumns in dataset:\")\n",
    "print(df.columns.tolist())\n",
    "print(\"\\nFirst 5 rows of data:\")\n",
    "print(df.head())\n",
    "\n",
    "\n",
    "clean_df = clean_data(df)\n",
    "\n",
    "\n",
    "visualize_data(clean_df)"
   ]
  },
  {
   "cell_type": "code",
   "execution_count": null,
   "id": "be024de5-70f5-4fa5-8ffa-4f2702368d86",
   "metadata": {},
   "outputs": [],
   "source": []
  },
  {
   "cell_type": "code",
   "execution_count": null,
   "id": "e1dab64a-a348-4d3c-81de-b12f85d259ad",
   "metadata": {},
   "outputs": [],
   "source": []
  },
  {
   "cell_type": "code",
   "execution_count": null,
   "id": "dc03c383-5182-4c71-9ae9-47455c25a8f2",
   "metadata": {},
   "outputs": [],
   "source": []
  },
  {
   "cell_type": "code",
   "execution_count": null,
   "id": "eb0e41de-d2d6-4014-b719-c0fc375d74a2",
   "metadata": {},
   "outputs": [],
   "source": []
  }
 ],
 "metadata": {
  "kernelspec": {
   "display_name": "Python [conda env:base] *",
   "language": "python",
   "name": "conda-base-py"
  },
  "language_info": {
   "codemirror_mode": {
    "name": "ipython",
    "version": 3
   },
   "file_extension": ".py",
   "mimetype": "text/x-python",
   "name": "python",
   "nbconvert_exporter": "python",
   "pygments_lexer": "ipython3",
   "version": "3.12.7"
  }
 },
 "nbformat": 4,
 "nbformat_minor": 5
}
