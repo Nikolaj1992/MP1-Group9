{
 "cells": [
  {
   "cell_type": "markdown",
   "id": "061cb73d-d045-4414-9f60-324e1d9b4e9b",
   "metadata": {},
   "source": [
    "## MP2: Red & White Wine"
   ]
  },
  {
   "cell_type": "code",
   "execution_count": null,
   "id": "e81a0ef3-8794-4c7c-9825-36e61999174c",
   "metadata": {},
   "outputs": [],
   "source": [
    "import pandas as pd, numpy as np, seaborn as sbn, matplotlib.pyplot as plt\n",
    "\n",
    "from descriptive_stats import ct, dp, cr, vs\n",
    "from utils.data_loader import load_excel, merge_wine_data, remove_missing, remove_duplicates"
   ]
  },
  {
   "cell_type": "markdown",
   "id": "4c4ee472-01a4-429f-a594-8566a9ec5dda",
   "metadata": {},
   "source": [
    "### Data Loading"
   ]
  },
  {
   "cell_type": "code",
   "execution_count": null,
   "id": "d3705a29-0da5-439e-8680-6c5e48d3b22c",
   "metadata": {},
   "outputs": [],
   "source": [
    "xlsx_file_path = '../Data/winequality-red.xlsx'\n",
    "df_red = load_excel(xlsx_file_path)"
   ]
  },
  {
   "cell_type": "code",
   "execution_count": null,
   "id": "ee1934e0-b798-4652-ae87-8bb9b6d00fab",
   "metadata": {},
   "outputs": [],
   "source": [
    "xlsx_file_path = '../Data/winequality-white.xlsx'\n",
    "df_white = load_excel(xlsx_file_path)"
   ]
  },
  {
   "cell_type": "code",
   "execution_count": null,
   "id": "7bebd413-7ef5-4dc0-be85-db80d7df3c75",
   "metadata": {},
   "outputs": [],
   "source": [
    "df_red"
   ]
  },
  {
   "cell_type": "code",
   "execution_count": null,
   "id": "6576b4f6-45cc-4836-8c88-2a5572187bc7",
   "metadata": {},
   "outputs": [],
   "source": [
    "df_white"
   ]
  },
  {
   "cell_type": "code",
   "execution_count": null,
   "id": "9825056a-a75e-451a-97aa-e61d9ee3acc9",
   "metadata": {},
   "outputs": [],
   "source": [
    "df_red.isna().sum()"
   ]
  },
  {
   "cell_type": "code",
   "execution_count": null,
   "id": "48a90406-c97f-4f8a-9ab1-a7cdad8a40a2",
   "metadata": {},
   "outputs": [],
   "source": [
    "remove_missing(df_red)"
   ]
  },
  {
   "cell_type": "code",
   "execution_count": null,
   "id": "e4483495-9263-40f4-b6b4-438dfe638a8f",
   "metadata": {},
   "outputs": [],
   "source": [
    "df_white.isna().sum()"
   ]
  },
  {
   "cell_type": "code",
   "execution_count": null,
   "id": "66a5052b-2c1d-42d6-bc40-3f00b4a0c335",
   "metadata": {},
   "outputs": [],
   "source": [
    "remove_missing(df_white)"
   ]
  },
  {
   "cell_type": "code",
   "execution_count": null,
   "id": "2a8f38fe-566d-48eb-8839-aa820252a2e1",
   "metadata": {},
   "outputs": [],
   "source": [
    "wine_df = merge_wine_data(df_red, df_white)"
   ]
  },
  {
   "cell_type": "code",
   "execution_count": null,
   "id": "c45a63e2-5df0-4b47-b455-990837811a64",
   "metadata": {},
   "outputs": [],
   "source": [
    "wine_df"
   ]
  },
  {
   "cell_type": "markdown",
   "id": "9f658448-1597-49c7-bad8-292753dc36a5",
   "metadata": {},
   "source": [
    "### Data Exploration"
   ]
  },
  {
   "cell_type": "code",
   "execution_count": null,
   "id": "c39b3cd5-6773-4f95-9b05-d25db68dc67e",
   "metadata": {},
   "outputs": [],
   "source": [
    "print(\"Red Wines:\")\n",
    "df_red.info()\n",
    "\n",
    "print(\"\\nWhite Wines:\")\n",
    "df_white.info()\n",
    "\n",
    "print(\"\\nCombined data:\")\n",
    "wine_df.info()"
   ]
  },
  {
   "cell_type": "code",
   "execution_count": null,
   "id": "3efde3a0-50a9-4618-8f50-85781c7dc4b2",
   "metadata": {},
   "outputs": [],
   "source": [
    "wine_df.describe()"
   ]
  },
  {
   "cell_type": "markdown",
   "id": "acbf366d-1cbe-42e0-95da-8c7d6f7f0cfc",
   "metadata": {},
   "source": [
    "### 5.\n",
    "Transform the categorical data into numeric, applying appropriate encoding methods."
   ]
  },
  {
   "cell_type": "code",
   "execution_count": null,
   "id": "43bbbfd3-edd7-465c-a417-75a11bf2ca9d",
   "metadata": {},
   "outputs": [],
   "source": [
    "\n",
    "wine_df['type'] = wine_df['type'].map({'red': 0, 'white': 1})"
   ]
  },
  {
   "cell_type": "code",
   "execution_count": null,
   "id": "53dcdb2d-ff07-4218-9627-2a3209e2dd16",
   "metadata": {},
   "outputs": [],
   "source": [
    "wine_df"
   ]
  },
  {
   "cell_type": "markdown",
   "id": "80bca1d7-3591-4af2-bbb7-45a90ae6c14a",
   "metadata": {},
   "source": [
    "### 6.\n",
    "Calculate the descriptive statistics of the numeric data. Check whether the distribution of\n",
    "the values of the attributes is normal."
   ]
  },
  {
   "cell_type": "code",
   "execution_count": null,
   "id": "8feec0b9-a29f-4ba1-9b97-bf383e647ad2",
   "metadata": {},
   "outputs": [],
   "source": [
    "# Descriptive statistics - not sure if this is what is ment?\n",
    "print(wine_df.describe())"
   ]
  },
  {
   "cell_type": "code",
   "execution_count": null,
   "id": "15e1f64c-9d28-4528-b867-9c0c4a212bb8",
   "metadata": {},
   "outputs": [],
   "source": [
    "#smaller scale histogram\n",
    "wine_df.hist(bins=15, figsize=(15, 10))\n",
    "plt.tight_layout()\n",
    "plt.show() "
   ]
  },
  {
   "cell_type": "code",
   "execution_count": null,
   "id": "08c09993-0767-4f18-8519-9af0a6f5fcb4",
   "metadata": {},
   "outputs": [],
   "source": [
    "# Huge scaling, but otherwise i cant see the numbers\n",
    "vs.histogram(wine_df, title='Wine Features Histogram')"
   ]
  },
  {
   "cell_type": "code",
   "execution_count": null,
   "id": "7164c37e-f43e-4dd8-839c-c36d97d84089",
   "metadata": {},
   "outputs": [],
   "source": [
    "#tells you if the distribution is asymmetric. \n",
    "#A value of 0 means perfectly symmetric, positive skewness means the right tail is longer, and negative skewness means the left tail is longer.\n",
    "wine_df.skew()"
   ]
  },
  {
   "cell_type": "code",
   "execution_count": null,
   "id": "e4f953ef-92b8-47cb-897b-7941ae702743",
   "metadata": {},
   "outputs": [],
   "source": [
    "# tells you how heavy or light the tails of the distribution are compared to a normal distribution.\n",
    "# A kurtosis greater than 3 indicates heavy tails (more outliers), while less than 3 means lighter tails.\n",
    "wine_df.kurtosis()"
   ]
  },
  {
   "cell_type": "markdown",
   "id": "0e071a58-2659-4605-9a76-b0c60369c461",
   "metadata": {},
   "source": [
    "### 7. Diagrams"
   ]
  },
  {
   "cell_type": "code",
   "execution_count": null,
   "id": "bab95d84-67b3-4260-986d-37acbdeacf8b",
   "metadata": {},
   "outputs": [],
   "source": [
    "df_red_clean = remove_duplicates(df_red)"
   ]
  },
  {
   "cell_type": "code",
   "execution_count": null,
   "id": "d83a9a65-39e1-4199-9d6a-e8b62ba753b2",
   "metadata": {},
   "outputs": [],
   "source": [
    "df_white_clean = remove_duplicates(df_white)"
   ]
  },
  {
   "cell_type": "code",
   "execution_count": null,
   "id": "493474da-9426-44f4-9743-af7650963a20",
   "metadata": {},
   "outputs": [],
   "source": [
    "wine_df_clean = remove_duplicates(wine_df)"
   ]
  },
  {
   "cell_type": "code",
   "execution_count": null,
   "id": "aaaa3953-937c-4e37-8b2b-ca1947925ba8",
   "metadata": {},
   "outputs": [],
   "source": [
    "# Shows us a general overview of how many wines fall into each category of quality\n",
    "plt.figure(figsize=(12,4))\n",
    "\n",
    "plt.subplot(1,3,1)\n",
    "sbn.countplot(x='quality', data=df_red_clean)\n",
    "plt.title('Red Wine Quality Distribution')\n",
    "\n",
    "plt.subplot(1,3,2)\n",
    "sbn.countplot(x='quality', data=df_white_clean)\n",
    "plt.title('White Wine Quality Distribution')\n",
    "\n",
    "plt.subplot(1,3,3)\n",
    "sbn.countplot(x='quality', hue='type', data=wine_df_clean)\n",
    "plt.title('Combined Wine Quality Distribution')\n",
    "\n",
    "plt.tight_layout()\n",
    "plt.show()"
   ]
  },
  {
   "cell_type": "code",
   "execution_count": null,
   "id": "93062b90-6df3-400e-beba-57193c2f152c",
   "metadata": {},
   "outputs": [],
   "source": [
    "# Which type of wine has higher average quality?\n",
    "mean_quality_red = wine_df_clean[wine_df_clean['type'] == 0]['quality'].mean()\n",
    "mean_quality_white = wine_df_clean[wine_df_clean['type'] == 1]['quality'].mean()\n",
    "difference = mean_quality_white - mean_quality_red\n",
    "print(f\"Red: {mean_quality_red:.2f}, White: {mean_quality_white:.2f}, Difference: {difference:.2f}\")"
   ]
  },
  {
   "cell_type": "code",
   "execution_count": null,
   "id": "e8fc83f9-a5f4-4631-9c36-1315478a02a6",
   "metadata": {},
   "outputs": [],
   "source": [
    "# Remember type 0 is Red and type 1 is White\n",
    "avg_quality = wine_df_clean.groupby('type')['quality'].mean().reset_index()\n",
    "sbn.barplot(x='type', y='quality', data=avg_quality)\n",
    "plt.title('Average Wine Quality by Type')\n",
    "plt.ylabel('Average Quality')\n",
    "plt.show()"
   ]
  },
  {
   "cell_type": "markdown",
   "id": "db37114f-0dd9-450d-89c9-cd1cf18b3d5f",
   "metadata": {},
   "source": [
    "##### We now see that, once cleaned of missing values AND duplicates, white wines have a slightly higher average quality by 0.23"
   ]
  },
  {
   "cell_type": "code",
   "execution_count": null,
   "id": "6d00ab5c-b015-47fd-8b63-8874bda81769",
   "metadata": {},
   "outputs": [],
   "source": [
    "avg_alcohol = wine_df_clean.groupby('type')['alcohol'].mean()\n",
    "print(avg_alcohol)"
   ]
  },
  {
   "cell_type": "code",
   "execution_count": null,
   "id": "dbd242f8-0e37-4a03-a670-b6a82ce14fcf",
   "metadata": {},
   "outputs": [],
   "source": [
    "sbn.boxplot(x='type', y='alcohol', data=wine_df_clean)\n",
    "plt.title('Alcohol Content by Wine Type')\n",
    "plt.show()"
   ]
  },
  {
   "cell_type": "markdown",
   "id": "f28880df-4796-4de5-9c16-5327f79be56c",
   "metadata": {},
   "source": [
    "##### We can see that white wine has a higher average alchohol content with 10.5893 vs red wine at 10.4323, with a few small outliers for red wine"
   ]
  },
  {
   "cell_type": "code",
   "execution_count": null,
   "id": "4897c494-9c15-4e31-b388-5abc991d1a15",
   "metadata": {},
   "outputs": [],
   "source": [
    "upper_lim = wine_df_clean['alcohol'].quantile(.95)"
   ]
  },
  {
   "cell_type": "code",
   "execution_count": null,
   "id": "4344c37a-8006-4d53-a3cb-411dba433398",
   "metadata": {},
   "outputs": [],
   "source": [
    "wine_df_no_outliers = wine_df_clean[(wine_df_clean['alcohol'] < upper_lim)]"
   ]
  },
  {
   "cell_type": "code",
   "execution_count": null,
   "id": "b6055582-203f-425a-bfea-f10ec7a05ecf",
   "metadata": {},
   "outputs": [],
   "source": [
    "avg_alcohol_new = wine_df_no_outliers.groupby('type')['alcohol'].mean()\n",
    "print(avg_alcohol_new)"
   ]
  },
  {
   "cell_type": "code",
   "execution_count": null,
   "id": "c1319ebf-e355-4e7f-8036-072b9819676e",
   "metadata": {},
   "outputs": [],
   "source": [
    "sbn.boxplot(x='type', y='alcohol', data=wine_df_no_outliers)\n",
    "plt.title('Alcohol Content by Wine Type')\n",
    "plt.show()"
   ]
  },
  {
   "cell_type": "markdown",
   "id": "4c150d26-88c4-4523-9cfb-91ae4e006715",
   "metadata": {},
   "source": [
    "##### Now with all outliers removed above the 95th percentile"
   ]
  },
  {
   "cell_type": "code",
   "execution_count": null,
   "id": "ad386024-06d5-4aa2-8fb1-766c42a20ea4",
   "metadata": {},
   "outputs": [],
   "source": [
    "avg_sugar = wine_df_clean.groupby('type')['residual sugar'].mean()\n",
    "print(avg_sugar)"
   ]
  },
  {
   "cell_type": "code",
   "execution_count": null,
   "id": "50ad0a49-8711-4dcc-8bca-b7725213e38f",
   "metadata": {},
   "outputs": [],
   "source": [
    "sbn.boxplot(x='type', y='residual sugar', data=wine_df_clean)\n",
    "plt.title('Residual Sugar by Wine Type')\n",
    "plt.show()"
   ]
  },
  {
   "cell_type": "markdown",
   "id": "fe9076c5-5047-426c-bba6-7af2c0faa85c",
   "metadata": {},
   "source": [
    "##### We see that white wine a significantly higher average residual sugar content at 5.9148 compared to red wine at 2.5234.\n",
    "##### However, we also see from the boxplot that there is one massive outlier from the white wine datasheet"
   ]
  },
  {
   "cell_type": "code",
   "execution_count": null,
   "id": "30408e3b-9802-4955-b6ea-cb1f6a960a26",
   "metadata": {},
   "outputs": [],
   "source": [
    "# Let's find this one obvious mega outlier\n",
    "white_wine = wine_df_clean[wine_df_clean['type'] == 1].copy()\n",
    "max_sugar_index = white_wine['residual sugar'].idxmax()\n",
    "\n",
    "# Let's see the outlier itself\n",
    "outlier_row = wine_df_clean.loc[max_sugar_index]\n",
    "print(\"Outlier row with highest residual sugar (white wine):\")\n",
    "print(outlier_row)"
   ]
  },
  {
   "cell_type": "code",
   "execution_count": null,
   "id": "9f292eab-dc95-4d5b-ad18-4d1dd4843fe0",
   "metadata": {},
   "outputs": [],
   "source": [
    "wine_df_outlier_gone = wine_df_clean.drop(index=max_sugar_index)"
   ]
  },
  {
   "cell_type": "code",
   "execution_count": null,
   "id": "39aca73a-f439-49a5-9e6c-34f3c6ac9a1b",
   "metadata": {},
   "outputs": [],
   "source": [
    "# Now let's try again\n",
    "avg_sugar = wine_df_outlier_gone.groupby('type')['residual sugar'].mean()\n",
    "print(avg_sugar)"
   ]
  },
  {
   "cell_type": "code",
   "execution_count": null,
   "id": "81102c43-d1d1-4a44-97ac-2a796530d8c8",
   "metadata": {},
   "outputs": [],
   "source": [
    "sbn.boxplot(x='type', y='residual sugar', data=wine_df_outlier_gone)\n",
    "plt.title('Residual Sugar by Wine Type')\n",
    "plt.show()"
   ]
  },
  {
   "cell_type": "markdown",
   "id": "2c36da51-39cf-47a8-ac7f-293f8c37c168",
   "metadata": {},
   "source": [
    "##### We see that white wine still has a significantly higher average residual sugar content at 5.8996 compared to red wine at 2.5234.\n",
    "##### The biggest obvious outlier has been removed, yet other outliers remain from both types of wine (removing these should be discussed, yet it doesn't change that white wine is clearly with a higher sugar content overall). "
   ]
  },
  {
   "cell_type": "code",
   "execution_count": null,
   "id": "60ea9c5d-7513-45ec-9b2c-ec7909507c0a",
   "metadata": {},
   "outputs": [],
   "source": [
    "# Does the quantity of alcohol and residual sugar influence the quality of the wine?\n",
    "sbn.lmplot(x='alcohol', y='quality', hue='type', data=wine_df_outlier_gone)\n",
    "plt.title('Alcohol vs Quality')\n",
    "plt.show()\n",
    "\n",
    "sbn.lmplot(x='residual sugar', y='quality', hue='type', data=wine_df_outlier_gone)\n",
    "plt.title('Residual Sugar vs Quality')\n",
    "plt.show()"
   ]
  },
  {
   "cell_type": "markdown",
   "id": "38c3a596-cc0b-4dd1-aa22-fbc1ea2e1a29",
   "metadata": {},
   "source": [
    "##### These scatterplots plot all the wines allowing us to see quality and compare these to either residual sugar or alchohol. The regression line indicates a trend and thus also gives an impression of whether there might be a positive or negative correlation"
   ]
  },
  {
   "cell_type": "code",
   "execution_count": null,
   "id": "774eb3d2-09f3-4b22-b1f2-258f5f601025",
   "metadata": {},
   "outputs": [],
   "source": [
    "red_corr = wine_df_outlier_gone[wine_df_outlier_gone['type'] == 0][['alcohol', 'residual sugar', 'quality']].corr()\n",
    "white_corr = wine_df_outlier_gone[wine_df_outlier_gone['type'] == 1][['alcohol', 'residual sugar', 'quality']].corr()\n",
    "print(\"Red Wine Correlation:\\n\", red_corr)\n",
    "print(\"White Wine Correlation:\\n\", white_corr)"
   ]
  },
  {
   "cell_type": "code",
   "execution_count": null,
   "id": "fd65a0e0-7b8f-4d80-9f9c-e7ddcf130dd5",
   "metadata": {},
   "outputs": [],
   "source": [
    "# A correlation heatmap for the entire dataframe containing both red and white wines\n",
    "vs.correlation_heatmap(wine_df_outlier_gone)"
   ]
  },
  {
   "cell_type": "markdown",
   "id": "84ee2240-ba55-4fdc-8778-aa6c873fb8b5",
   "metadata": {},
   "source": [
    "##### We see that there's a positive correlation between alchohol content and quality for both red and white wine in our scatterplots, with it being only mildly more positive for red wine compared to white.\n",
    "##### The correlation between residual sugar and quality however is not quite as apparent. White wine appears to have a slightly negative correlation while red wine looks barely positive BUT for red wine the correlation is uncertain enough that we can make a final conclusion based solely on diagrams.\n",
    "##### However judging from the Pearson Correlation Matrices, knowing that 1 means a strong posititive correlation, -1 a strong negative and 0 no correlation, we can arrive at the following conclusion:"
   ]
  },
  {
   "cell_type": "markdown",
   "id": "f61b5d55-0fac-4e48-8c7c-134dfbb229d3",
   "metadata": {},
   "source": [
    "##### For red wine, with alchohol vs. quality correlation at 0.48, we have a moderate positive correlation - meaning more alchohol = better quality. Meanwhile with residual sugar vs. alchohol at only 0.014, there is pratically no correlation here.\n",
    "##### For white wine, with alchohol vs. quality correlation at 0.46, we have a moderate positive correlation - meaning again more alchohol = better quality. However when it comes to residual sugar vs. quality at -0.12, we have a weak negative correlation - meaning quality drops slightly for white wines the more sugar is in it."
   ]
  },
  {
   "cell_type": "code",
   "execution_count": null,
   "id": "c12d98a9-ab86-456e-932e-c66874c6815a",
   "metadata": {},
   "outputs": [],
   "source": [
    "# Task 8: Discuss which other questions might be of interest for wine consumers and distributors\n",
    "\n",
    "print(\"Questions of interest for wine consumers:\")\n",
    "print(\"1. Is there a relationship between price (if available) and quality?\")\n",
    "print(\"2. Which attributes most affect the taste profile that consumers prefer?\")\n",
    "print(\"3. Are there significant differences between red and white wines in terms of health attributes like alcohol content?\")\n",
    "print(\"4. Which wines offer the best quality-to-price ratio?\")\n",
    "print(\"5. Are organic/sustainable wines (if labeled) rated differently than conventional wines?\")\n",
    "\n",
    "print(\"\\nQuestions of interest for wine distributors:\")\n",
    "print(\"1. Which chemical properties predict the shelf life and stability of wines?\")\n",
    "print(\"2. Is there a correlation between production cost factors and quality?\")\n",
    "print(\"3. Which attributes should be highlighted in marketing to different consumer segments?\")\n",
    "print(\"4. Are there seasonal variations in wine quality or preferences?\")\n",
    "print(\"5. How do transportation and storage conditions affect wine attributes and quality?\")\n"
   ]
  },
  {
   "cell_type": "code",
   "execution_count": null,
   "id": "11489b52-1922-47b2-9fa0-f6938dede4ab",
   "metadata": {},
   "outputs": [],
   "source": [
    "# Task 9: Split data into subsets by binning the pH attribute\n",
    "\n",
    "# Define pH bins and labels\n",
    "ph_bins = [2.7, 3.1, 3.3, 3.5, 3.7, 4.0]  # Adjust these ranges based on your data distribution\n",
    "ph_labels = ['Very high acidity', 'High acidity', 'Medium acidity', 'Low acidity', 'Very low acidity']\n",
    "\n",
    "# Create a new column with pH bins\n",
    "wine_df['pH_category'] = pd.cut(wine_df['pH'], bins=ph_bins, labels=ph_labels)\n",
    "\n",
    "# Display the distribution of wines across pH categories\n",
    "ph_distribution = wine_df['pH_category'].value_counts().sort_index()\n",
    "print(\"\\nDistribution of wines across pH categories:\")\n",
    "print(ph_distribution)\n",
    "\n",
    "# Create a bar plot of the pH distribution\n",
    "plt.figure(figsize=(10, 6))\n",
    "ph_distribution.plot(kind='bar', color='skyblue')\n",
    "plt.title('Distribution of Wines by pH Level', fontsize=14)\n",
    "plt.xlabel('pH Category', fontsize=12)\n",
    "plt.ylabel('Number of Wines', fontsize=12)\n",
    "plt.xticks(rotation=45)\n",
    "plt.grid(axis='y', linestyle='--', alpha=0.7)\n",
    "plt.tight_layout()\n",
    "plt.show()\n",
    "\n",
    "# Calculate mean quality for each pH category\n",
    "quality_by_ph = wine_df.groupby('pH_category')['quality'].mean().sort_index()\n",
    "print(\"\\nMean quality by pH category:\")\n",
    "print(quality_by_ph)\n",
    "\n",
    "# Create a bar plot of quality by pH category\n",
    "plt.figure(figsize=(10, 6))\n",
    "quality_by_ph.plot(kind='bar', color='salmon')\n",
    "plt.title('Average Wine Quality by pH Level', fontsize=14)\n",
    "plt.xlabel('pH Category', fontsize=12)\n",
    "plt.ylabel('Average Quality', fontsize=12)\n",
    "plt.xticks(rotation=45)\n",
    "plt.grid(axis='y', linestyle='--', alpha=0.7)\n",
    "plt.tight_layout()\n",
    "plt.show()\n",
    "\n",
    "# Analyze other attributes by pH category\n",
    "attributes_by_ph = wine_df.groupby('pH_category').agg({\n",
    "    'alcohol': 'mean',\n",
    "    'volatile acidity': 'mean',\n",
    "    'residual sugar': 'mean',\n",
    "    'sulphates': 'mean',\n",
    "    'quality': ['mean', 'max', 'min', 'std']\n",
    "}).round(2)\n",
    "\n",
    "print(\"\\nKey attributes by pH category:\")\n",
    "print(attributes_by_ph)\n",
    "\n",
    "# Find which subset has highest density and explain why\n",
    "density_by_ph = wine_df.groupby('pH_category')['density'].mean().sort_values(ascending=False)\n",
    "print(\"\\nMean density by pH category (highest to lowest):\")\n",
    "print(density_by_ph)\n",
    "\n",
    "highest_density_category = density_by_ph.index[0]\n",
    "print(f\"\\nThe pH category with highest density is: {highest_density_category}\")\n",
    "\n",
    "# Investigate why this subset has higher density by comparing other attributes\n",
    "high_density_analysis = wine_df.groupby('pH_category').agg({\n",
    "    'residual sugar': 'mean',\n",
    "    'alcohol': 'mean',\n",
    "    'fixed acidity': 'mean'\n",
    "}).loc[highest_density_category]\n",
    "\n",
    "print(\"\\nKey factors affecting density in the highest density pH category:\")\n",
    "print(high_density_analysis)\n",
    "\n",
    "print(\"\\nExplanation: The subset with highest density likely has this characteristic because of:\")\n",
    "print(\"1. Higher residual sugar content (sugar increases density)\")\n",
    "print(\"2. Potentially lower alcohol content (alcohol decreases density)\")\n",
    "print(\"3. Differences in acid composition (acids can affect density)\")"
   ]
  },
  {
   "cell_type": "code",
   "execution_count": null,
   "id": "1d203615-c2e2-4b65-a7e8-de6d489c500c",
   "metadata": {},
   "outputs": [],
   "source": []
  },
  {
   "cell_type": "markdown",
   "id": "06d9ce93-b551-4444-879a-0551e11c09c3",
   "metadata": {},
   "source": [
    "## 10. Correlation Matrix and Heatmap"
   ]
  },
  {
   "cell_type": "markdown",
   "id": "5a1fe3f4-9328-47a3-8bc2-01493c37e049",
   "metadata": {},
   "source": [
    "### Making a correlation matrix with the clean wine data"
   ]
  },
  {
   "cell_type": "code",
   "execution_count": null,
   "id": "b7f7fab8-39de-4bf4-8aae-87f34eafe9fa",
   "metadata": {},
   "outputs": [],
   "source": [
    "wine_df_clean"
   ]
  },
  {
   "cell_type": "code",
   "execution_count": null,
   "id": "bc559ce0-1c45-413c-8d22-e172c7d0da4d",
   "metadata": {},
   "outputs": [],
   "source": [
    "matrix = wine_df_clean.corr()"
   ]
  },
  {
   "cell_type": "code",
   "execution_count": null,
   "id": "81d4e0b9-b3d1-4792-87ec-478dce5754cc",
   "metadata": {},
   "outputs": [],
   "source": [
    "print(\"Correlation matrix is : \")\n",
    "print(matrix)"
   ]
  },
  {
   "cell_type": "markdown",
   "id": "f161fa3f-6c1e-419a-919a-6da741a48a95",
   "metadata": {},
   "source": [
    "### Making a heatmap based on the matrix with all cleaned wine data"
   ]
  },
  {
   "cell_type": "code",
   "execution_count": null,
   "id": "48bfc742-5a47-4acb-acd1-71d9f6f30997",
   "metadata": {},
   "outputs": [],
   "source": [
    "sbn.heatmap(matrix, cmap='plasma', annot=True, fmt=\".1f\")"
   ]
  },
  {
   "cell_type": "markdown",
   "id": "d346b8d1-98de-41b0-80b5-8fb686ed8a1e",
   "metadata": {},
   "source": [
    "##### We can see here that alcohol clearly stands out with a correlation of 0.5, followed by type and citric acid - both at 0.1. On the other side of the spectrum we have density and volatile acidity which share a correlation -0.3, hinting that a higher content of those two might influence the quality of the wine negatively."
   ]
  },
  {
   "cell_type": "markdown",
   "id": "9bce1ffa-7aa3-49a2-b9b5-aa90a51ba584",
   "metadata": {},
   "source": [
    "### Making a bar chart to clarify which wine characteristic has the highest correlation with the wine's quality. (excluding quality of course)"
   ]
  },
  {
   "cell_type": "code",
   "execution_count": null,
   "id": "ec6cd2a1-809a-4d2c-ad0a-c2783d0a3cf0",
   "metadata": {},
   "outputs": [],
   "source": [
    "quality_correlation = matrix['quality'].drop('quality').sort_values(ascending=False)"
   ]
  },
  {
   "cell_type": "code",
   "execution_count": null,
   "id": "17362777-cc7c-4576-b235-f95d25cea817",
   "metadata": {},
   "outputs": [],
   "source": [
    "print(quality_correlation)"
   ]
  },
  {
   "cell_type": "code",
   "execution_count": null,
   "id": "9f7d3134-e559-4973-a30e-d2502d1ccdc0",
   "metadata": {},
   "outputs": [],
   "source": [
    "plt = quality_correlation.plot(kind='bar')"
   ]
  },
  {
   "cell_type": "markdown",
   "id": "85b1777f-71aa-4379-877d-154ff3193a57",
   "metadata": {},
   "source": [
    "##### So, as this bar chart clearly pictures, the alcohol content has the biggest correlation with the wine's quality. The higher a wine's alcohol content - the higher its quality generally is. Secondly the winetype has the second highest correlation and citric acid third. Density has the lowest correlation, so the higher the density in the wine - the lower its quality may be. The same applies to the other negative correlation values: total sulfur dioxide, residual sugar, fixed acidity, chlorides and volatile acidity"
   ]
  },
  {
   "cell_type": "markdown",
   "id": "c1189fe5-620e-4600-ad29-099ca060280b",
   "metadata": {},
   "source": [
    "### Delving deeper into the most noteworthy correlation values:"
   ]
  },
  {
   "cell_type": "markdown",
   "id": "5f241c46-f57f-4484-932b-09bdf2be3f27",
   "metadata": {},
   "source": [
    "#### Alcohol and quality"
   ]
  },
  {
   "cell_type": "code",
   "execution_count": null,
   "id": "239dffa0-dfa0-46ec-9992-66a890b3dfc1",
   "metadata": {},
   "outputs": [],
   "source": [
    "alc_to_q = wine_df_clean.groupby('alcohol')['quality'].mean()"
   ]
  },
  {
   "cell_type": "code",
   "execution_count": null,
   "id": "e3e44c81-a3bf-4850-a939-85cd460ef7c6",
   "metadata": {},
   "outputs": [],
   "source": [
    "alc_to_q.plot.area(xlabel='Alcohol content in %', ylabel='Average Quality')"
   ]
  },
  {
   "cell_type": "markdown",
   "id": "2595f871-8e4b-4e09-9e81-e24c6b24d449",
   "metadata": {},
   "source": [
    "##### There is a general tendency that the higher the alcohol content - the higher the wine's quality. But once the alcohol content is 15% or higher, the quality falls off a cliff - so too high alcohol content isn't great either."
   ]
  },
  {
   "cell_type": "markdown",
   "id": "e1bc1ffa-0e61-434b-a205-d0eb726672e9",
   "metadata": {},
   "source": [
    "#### Type of wine and correlation with quality"
   ]
  },
  {
   "cell_type": "code",
   "execution_count": null,
   "id": "85e62257-43be-4d71-a721-58f5245fee05",
   "metadata": {},
   "outputs": [],
   "source": [
    "type_to_q = wine_df_clean.groupby('type')['quality'].mean()\n",
    "print(f\"Average quality for red wine (0): {type_to_q[0]}\")\n",
    "print(f\"Average quality for white wine (1): {type_to_q[1]}\")"
   ]
  },
  {
   "cell_type": "markdown",
   "id": "35fd2fa3-975b-424b-beb3-104e6506e0d0",
   "metadata": {},
   "source": [
    "##### So this means that if the wine is a white wine it typically corresponds to a higher quality wine compared to if it was a red wine"
   ]
  },
  {
   "cell_type": "markdown",
   "id": "671a70d3-fe98-4957-a266-bfb06101370a",
   "metadata": {},
   "source": [
    "#### Citric acid and correlation with quality"
   ]
  },
  {
   "cell_type": "code",
   "execution_count": null,
   "id": "7556001e-0799-4eb3-8f00-3ebb880ab4a9",
   "metadata": {},
   "outputs": [],
   "source": [
    "cit_acid_to_q = wine_df_clean.groupby('citric acid')['quality'].mean()\n",
    "cit_acid_to_q.plot.area(xlabel='Citric acid content', ylabel='Average Quality')"
   ]
  },
  {
   "cell_type": "markdown",
   "id": "401a6259-3ac4-4985-a101-b7387fbca2b1",
   "metadata": {},
   "source": [
    "##### Overall the quality generally increases with higher citric acid content, but interestingly, there is a pretty big spike at around 0.75 in citric acid, where the quality increases drastically. So this is the best amount of citric acid to have in a wine - compared to the steep fall in quality by around 0.90 in citric acid content, which we should avoid."
   ]
  },
  {
   "cell_type": "markdown",
   "id": "4e2977b7-17f9-486c-ae5a-a2e217f02f86",
   "metadata": {},
   "source": [
    "#### Density of the wine and correlation with quality"
   ]
  },
  {
   "cell_type": "code",
   "execution_count": null,
   "id": "f5d697de-a028-4ecc-a4f6-173375154bfa",
   "metadata": {},
   "outputs": [],
   "source": [
    "density_to_q = wine_df_clean.groupby('density')['quality'].mean()\n",
    "density_to_q.plot.area(xlabel='The density of the wine', ylabel='Average Quality')"
   ]
  },
  {
   "cell_type": "markdown",
   "id": "3422fc4c-470a-4df1-85ed-261a2f26789f",
   "metadata": {},
   "source": [
    "##### Generally the lower the density of the wine - the higher quality the wine tends to be, and the quality completely stagnates after the 1.005 mark in density."
   ]
  },
  {
   "cell_type": "markdown",
   "id": "eca3d340-1764-4710-a212-0b9bab29c91d",
   "metadata": {},
   "source": [
    "#### Volatile acidity and correlation with quality"
   ]
  },
  {
   "cell_type": "code",
   "execution_count": null,
   "id": "e5283ead-107b-4a57-a17a-d4120a4dd990",
   "metadata": {},
   "outputs": [],
   "source": [
    "vol_acid_to_q = wine_df_clean.groupby('volatile acidity')['quality'].mean()\n",
    "vol_acid_to_q.plot.area(xlabel='Volatile acid content', ylabel='Average Quality')"
   ]
  },
  {
   "cell_type": "markdown",
   "id": "de887eb4-e330-4877-941d-ae18e47d17ff",
   "metadata": {},
   "source": [
    "##### Volatile acid content is very interesting, as quality starts out high with a low volatile acidity - and the quality gets progressively lower as the acidity increases. It jumps up and down in quality quite suddenly between the values of 1.0 and 1.4 in volatile acidity. Maybe it is some kind of chemistry between the wine and the volatile acidity that just doesn't work out well at certain values - maybe it creates an imbalance when comparing to the other characteristics of the wine? In any case, the wine quality continuously decreases when volatile acidity is above 1.4. So all in all the general tendency is the lower the volatile acidity - the higher the wine quality."
   ]
  },
  {
   "cell_type": "markdown",
   "id": "8ae4e1b2-8304-43e5-955a-ee511d61a631",
   "metadata": {},
   "source": [
    "#### Figuring out the lowest correlation with quality"
   ]
  },
  {
   "cell_type": "code",
   "execution_count": null,
   "id": "d2a159ec-5aa1-46ad-9048-5df472ac25b1",
   "metadata": {},
   "outputs": [],
   "source": [
    "ph_to_q = wine_df_clean.groupby('pH')['quality'].mean()\n",
    "ph_to_q.plot.area(xlabel='pH value', ylabel='Average Quality')"
   ]
  },
  {
   "cell_type": "markdown",
   "id": "3b977fe3-4480-4450-865f-b4488ca547ba",
   "metadata": {},
   "source": [
    "##### As seen when calculating quality_correlation - pH is the value closest to 0 at 0.039733 - therefore pH is the value that has the least impact on the wine's quality. As pictured on the graph the tendency of the plot is generelly quite stagnant even as the quality and the pH value increases. There's some exceptions to this though, with spikes in quality in between, but the general consensus is that there is not much correlation between the pH value of the wine's quality compared to the other wine characteristics. Though it seems that there might be a correlation between a pH value higher than 3.9 and a higher quality wine."
   ]
  },
  {
   "cell_type": "markdown",
   "id": "1c33eb72-e885-4581-a2b7-7425f018caf8",
   "metadata": {},
   "source": [
    "### 12. Remove the attributes, which aren’t correlated with the wine quality, as well as the attributes that are highly correlated with another independent attribute."
   ]
  },
  {
   "cell_type": "markdown",
   "id": "655f65c3-aa33-4cba-8535-8ce3166c05e2",
   "metadata": {},
   "source": [
    "#### Least correlation with wine quality"
   ]
  },
  {
   "cell_type": "code",
   "execution_count": null,
   "id": "fcb16176-a7f8-45c9-8b88-8ffd0469de9a",
   "metadata": {},
   "outputs": [],
   "source": [
    "quality_correlation\n",
    "print(quality_correlation.abs().sort_values().head(5))"
   ]
  },
  {
   "cell_type": "markdown",
   "id": "b62fa6b5-0f17-4d29-bf3e-f395e96f0ec3",
   "metadata": {},
   "source": [
    "##### So we can see that these 5 have the lowest correlation with the quality with the wine, and especially pH and sulphates have very little correlation, as they round down to 0.0 - as seen on the heatmap below. So we want to remove those two as they don't affect the quality values. "
   ]
  },
  {
   "cell_type": "code",
   "execution_count": null,
   "id": "76bb4ca0-0416-4790-b673-ba60117f50ed",
   "metadata": {},
   "outputs": [],
   "source": [
    "sbn.heatmap(matrix, cmap='spring', annot=True, fmt=\".1f\")"
   ]
  },
  {
   "cell_type": "markdown",
   "id": "a49b4312-1ef3-4a1f-af5b-9fb35a0fbd31",
   "metadata": {},
   "source": [
    "#### High correlation and dependency with another independent attribute"
   ]
  },
  {
   "cell_type": "code",
   "execution_count": null,
   "id": "5fad30cf-113e-4957-b18c-29c809e39613",
   "metadata": {},
   "outputs": [],
   "source": [
    "abs_corr = matrix.copy().abs()\n",
    "np.fill_diagonal(abs_corr.values, np.nan)\n",
    "corr_pairs = abs_corr.unstack()\n",
    "\n",
    "# Dropping duplicate pairs - so we fx don't compare citric acid with itself\n",
    "corr_pairs = corr_pairs.dropna().sort_values(ascending=False)\n",
    "corr_pairs = corr_pairs[corr_pairs.index.get_level_values(0) != corr_pairs.index.get_level_values(1)]\n",
    "corr_pairs = corr_pairs[~corr_pairs.duplicated()]\n",
    "\n",
    "\n",
    "print(\"Top 5 most strongly correlated wine characteristic pairs (both positively and negatively correlated):\")\n",
    "print(corr_pairs.head(5))"
   ]
  },
  {
   "cell_type": "markdown",
   "id": "25279f4f-b6c9-445c-8fa5-d97dbbac8e1a",
   "metadata": {},
   "source": [
    "##### As calculated we can see that the correlation between total sulfur dioxide and both free sulfur dioxide and type are high, so it seems that the value of total sulfur dioxide is dependant on those two. Therefore we want to drop total sulfur dioxide as it doesn't seem to function independently."
   ]
  },
  {
   "cell_type": "markdown",
   "id": "a8feec8b-dedc-4f22-a214-a263b4eb900a",
   "metadata": {},
   "source": [
    "#### Removing the columns: pH, sulphates and total sulfur dioxide"
   ]
  },
  {
   "cell_type": "code",
   "execution_count": null,
   "id": "1cac0f75-5370-4279-bce6-2ee9541ae6a4",
   "metadata": {},
   "outputs": [],
   "source": [
    "wine_df_clean = wine_df_clean.drop(columns=['pH', 'sulphates', 'total sulfur dioxide'])"
   ]
  },
  {
   "cell_type": "code",
   "execution_count": null,
   "id": "308dcd47-687c-4432-8b37-b55790c220b0",
   "metadata": {},
   "outputs": [],
   "source": [
    "wine_df_clean"
   ]
  },
  {
   "cell_type": "code",
   "execution_count": null,
   "id": "3f71adf5-4707-4118-a177-8c5cdb5e4176",
   "metadata": {},
   "outputs": [],
   "source": [
    "wine_df_clean.shape"
   ]
  },
  {
   "cell_type": "markdown",
   "id": "a2d9f6bb-ce2b-43c6-bf11-8e38ab51bce4",
   "metadata": {},
   "source": [
    "##### The columns have been successfully removed because we had 13 columns before :)"
   ]
  }
 ],
 "metadata": {
  "kernelspec": {
   "display_name": "Python [conda env:base] *",
   "language": "python",
   "name": "conda-base-py"
  },
  "language_info": {
   "codemirror_mode": {
    "name": "ipython",
    "version": 3
   },
   "file_extension": ".py",
   "mimetype": "text/x-python",
   "name": "python",
   "nbconvert_exporter": "python",
   "pygments_lexer": "ipython3",
   "version": "3.12.7"
  }
 },
 "nbformat": 4,
 "nbformat_minor": 5
}
